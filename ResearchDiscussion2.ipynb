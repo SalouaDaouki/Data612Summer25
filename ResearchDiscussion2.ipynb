{
 "cells": [
  {
   "cell_type": "markdown",
   "id": "c6bdf733-6b2c-492a-a7e0-bfcffedc3262",
   "metadata": {},
   "source": [
    "#  Music Recommendations at Scale with Spark\n",
    "## Summary of Christopher Johnson's Talk (Spotify)\n",
    "\n",
    "## In his talk *\"Music Recommendations at Scale with Spark\"*, Christopher Johnson describes how Spotify uses large-scale recommender systems to help users discover new music from over 40 million songs. \n",
    "\n",
    "## Music streaming services rely on large-scale recommender systems to improve user experience and engagement by helping users discover new songs.\n",
    "\n",
    "# Key points:\n",
    "## - Spotify combines **personalized recommendations**, **artist radios**, and **similar artist discovery**.\n",
    "## - They use both **manual curation** (expert tagging of musical attributes) and **automated analysis** (e.g., via The Echo Nest's audio content analysis).\n",
    "## - The core of Spotify’s large-scale recommendations relies on **collaborative filtering**, particularly **implicit matrix factorization**:\n",
    "##     - Instead of explicit ratings (like Netflix stars), Spotify uses **implicit feedback** (binary: streamed or not, or weighted by play count).\n",
    "##     - This feedback forms a large sparse matrix (users × songs).\n",
    "## - They solve for latent factors using **alternating least squares (ALS)**:\n",
    "##    - Fix item vectors → solve user vectors (ridge regression)\n",
    "##     - Fix user vectors → solve item vectors\n",
    "##    - Iterate until convergence\n",
    "## - Three implementation strategies were discussed:\n",
    "###     1️⃣ **Broadcast everything** (inefficient, lots of shuffling)  \n",
    "###     2️⃣ **Full gridify** (better caching, still heavy network traffic)  \n",
    "###     3️⃣ **Half gridify** (optimal balance of memory use and network traffic)\n",
    "## - Switching from Hadoop (10 hours) to Spark reduced training time dramatically:\n",
    "##     - Spark full gridify: 3.5 hours\n",
    "##     - Spark half gridify: 1.5 hours\n",
    "## - Techniques like **Kryo serialization** helped improve performance over default Java serialization.\n",
    "\n",
    "# Why Implicit Feedback?\n",
    "\n",
    "## In music streaming, users rarely provide explicit ratings (like stars). Instead, their listening behavior—such as how often they play a song—provides implicit feedback. Modeling implicit feedback allows the system to learn preferences from abundant real usage patterns, which are more reflective of user interest than sparse explicit ratings.\n",
    "\n",
    "\n",
    "# Example: Implicit Matrix Factorization with PySpark ALS\n",
    "## The code below illustrates implicit matrix factorization using Spark's built-in ALS module."
   ]
  },
  {
   "cell_type": "code",
   "execution_count": 56,
   "id": "fc5a6215-ebd8-419c-9380-b50062198df7",
   "metadata": {},
   "outputs": [],
   "source": [
    "# Import Spark libraries\n",
    "from pyspark.sql import SparkSession\n",
    "from pyspark.ml.recommendation import ALS\n",
    "\n",
    "# Start Spark session\n",
    "# SparkSession is the entry point to programming Spark with the Dataset and DataFrame API.\n",
    "spark = SparkSession.builder.appName(\"SpotifyALSExample\").getOrCreate()"
   ]
  },
  {
   "cell_type": "code",
   "execution_count": 58,
   "id": "1a871bc9-4993-4eac-b4b7-e1053c08ad03",
   "metadata": {},
   "outputs": [
    {
     "name": "stderr",
     "output_type": "stream",
     "text": [
      "                                                                                \r"
     ]
    },
    {
     "name": "stdout",
     "output_type": "stream",
     "text": [
      "+------+------+---------+\n",
      "|userId|songId|playCount|\n",
      "+------+------+---------+\n",
      "|     0|    10|      3.0|\n",
      "|     0|    20|      1.0|\n",
      "|     0|    30|      2.0|\n",
      "|     1|    10|      4.0|\n",
      "|     1|    30|      1.0|\n",
      "|     2|    20|      5.0|\n",
      "|     2|    30|      3.0|\n",
      "+------+------+---------+\n",
      "\n"
     ]
    }
   ],
   "source": [
    "# Example dataset: userId, songId, implicit play count (e.g., number of streams)\n",
    "data = [\n",
    "    (0, 10, 3.0),\n",
    "    (0, 20, 1.0),\n",
    "    (0, 30, 2.0),\n",
    "    (1, 10, 4.0),\n",
    "    (1, 30, 1.0),\n",
    "    (2, 20, 5.0),\n",
    "    (2, 30, 3.0)\n",
    "]\n",
    "\n",
    "columns = [\"userId\", \"songId\", \"playCount\"]\n",
    "\n",
    "# Create Spark DataFrame\n",
    "ratings = spark.createDataFrame(data, columns)\n",
    "\n",
    "ratings.show()"
   ]
  },
  {
   "cell_type": "markdown",
   "id": "44d52c9b-7df4-4186-b59e-f53f623a9da9",
   "metadata": {},
   "source": [
    "## This table shows the user-song interactions used as training data. Each row represents how many times a user has played a specific song. For example, user 0 played song 10 three times."
   ]
  },
  {
   "cell_type": "code",
   "execution_count": 60,
   "id": "77ac20d8-0663-488a-8b98-9dd361855156",
   "metadata": {},
   "outputs": [],
   "source": [
    "# Configure ALS for implicit feedback\n",
    "# ALS (Alternating Least Squares) factorizes the user-item interaction matrix into latent factors.\n",
    "als = ALS(\n",
    "    userCol=\"userId\",\n",
    "    itemCol=\"songId\",\n",
    "    ratingCol=\"playCount\",\n",
    "    implicitPrefs=True,  # Enables implicit matrix factorization (binary/weighted events)\n",
    "    rank=10,             # Number of latent factors\n",
    "    maxIter=10,          # Number of ALS iterations\n",
    "    regParam=0.1         # Regularization to prevent overfitting\n",
    ")\n",
    "\n",
    "# Fit the ALS model\n",
    "model = als.fit(ratings)"
   ]
  },
  {
   "cell_type": "code",
   "execution_count": 62,
   "id": "df24bcb2-83c8-4b63-8e35-4f7bcaa509ca",
   "metadata": {},
   "outputs": [
    {
     "name": "stdout",
     "output_type": "stream",
     "text": [
      "+------+-----------------------------------------------------+\n",
      "|userId|recommendations                                      |\n",
      "+------+-----------------------------------------------------+\n",
      "|0     |[{30, 0.9973508}, {10, 0.95992213}, {20, 0.92250496}]|\n",
      "|1     |[{10, 0.9859443}, {30, 0.9187319}, {20, 0.11632301}] |\n",
      "|2     |[{20, 0.98867387}, {30, 0.9600925}, {10, 0.10747534}]|\n",
      "+------+-----------------------------------------------------+\n",
      "\n"
     ]
    }
   ],
   "source": [
    "# Generate top 3 song recommendations for each user\n",
    "user_recommendations = model.recommendForAllUsers(3)\n",
    "\n",
    "# Display recommendations\n",
    "user_recommendations.show(truncate=False)"
   ]
  },
  {
   "cell_type": "markdown",
   "id": "ccf875e9-4a8f-4420-887d-e22129db934e",
   "metadata": {},
   "source": [
    "## About ALS Parameters\n",
    "### rank: Number of latent factors used to represent users and items. Higher rank can capture more complex patterns but may lead to overfitting.\n",
    "\n",
    "### maxIter: Number of iterations ALS will run to optimize the latent factors.\n",
    "\n",
    "### regParam: Regularization parameter that controls overfitting by penalizing large factor values.\n",
    "\n",
    "### implicitPrefs: When set to True, ALS models implicit feedback data rather than explicit ratings, interpreting the input as confidence levels rather than direct ratings.\n",
    "\n",
    "## Interpreting Recommendations\n",
    "\n",
    "### Each user receives a ranked list of songs with predicted preference scores indicating the strength of the recommendation. Higher scores imply a higher likelihood the user will enjoy the song.\n",
    "\n",
    "### For example, user 0 is most strongly recommended song 30, followed by songs 10 and 20. These scores are not explicit ratings but relative measures of user affinity inferred from implicit feedback."
   ]
  },
  {
   "cell_type": "code",
   "execution_count": 64,
   "id": "5201798c-91e1-4107-936d-b79da5997af2",
   "metadata": {},
   "outputs": [],
   "source": [
    "# Stop Spark session\n",
    "spark.stop()"
   ]
  },
  {
   "cell_type": "markdown",
   "id": "2b10ca1d-81d5-45eb-bace-1f07b57a2f47",
   "metadata": {},
   "source": [
    "## References\n",
    "### - Talk: Christopher Johnson (2014). *Music Recommendations at Scale with Spark (Spotify)*. [YouTube](http://www.youtube.com/watch?v=3LBgiFch4_g)\n",
    "### - Code inspired by: Christopher Johnson’s `implicit-mf` repository: [https://github.com/MrChrisJohnson/implicit-mf](https://github.com/MrChrisJohnson/implicit-mf)\n"
   ]
  }
 ],
 "metadata": {
  "kernelspec": {
   "display_name": "Python 3 (ipykernel)",
   "language": "python",
   "name": "python3"
  },
  "language_info": {
   "codemirror_mode": {
    "name": "ipython",
    "version": 3
   },
   "file_extension": ".py",
   "mimetype": "text/x-python",
   "name": "python",
   "nbconvert_exporter": "python",
   "pygments_lexer": "ipython3",
   "version": "3.11.7"
  }
 },
 "nbformat": 4,
 "nbformat_minor": 5
}
