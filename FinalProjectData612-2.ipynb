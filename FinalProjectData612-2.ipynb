{
 "cells": [
  {
   "cell_type": "markdown",
   "metadata": {
    "application/vnd.databricks.v1+cell": {
     "cellMetadata": {
      "byteLimit": 2048000,
      "rowLimit": 10000
     },
     "inputWidgets": {},
     "nuid": "e2c0feb8-dd31-48c5-b5fe-ed80d53a6a83",
     "showTitle": false,
     "tableResultSettingsMap": {},
     "title": ""
    }
   },
   "source": [
    "# Final Project Notebook: MovieLens Recommender System with Azure OpenAI\n",
    "\n",
    "## Introduction: \n",
    "\n",
    "Recommender systems are a core component of many modern online platforms, helping users discover content that matches their interests from vast collections of items. In this project, I build and compare two approaches to recommendation using the popular [MovieLens dataset](https://grouplens.org/datasets/movielens/1m/): a **traditional Spark-based collaborative filtering pipeline**, and an **LLM-enhanced recommender system** powered by the Azure OpenAI service.  \n",
    "\n",
    "The goal is to evaluate the performance of conventional recommendation metrics — such as Precision, Recall, and Diversity — and to test how integrating a Large Language Model (LLM) can complement or extend traditional methods by generating novel suggestions in plain language.\n",
    "\n",
    "To demonstrate real-world deployment, this project (Project 6: Azure Hands-On) is implemented entirely on **Microsoft Azure**, using:\n",
    "- **Azure Blob Storage** for persistent storage of the dataset,\n",
    "- **Databricks and Spark** for scalable data processing and training,\n",
    "- **Azure OpenAI** for generating recommendations with a state-of-the-art LLM,\n",
    "- and secure network configurations to ensure controlled access to resources.\n",
    "\n",
    "As part of my long-term vision, I plan to adapt this pipeline to build a **lessons or course recommender system**, which could help students or learners find relevant study materials or personalized content based on their previous engagement. This project demonstrates the feasibility and limitations of combining **traditional collaborative filtering** with modern **generative AI**, paving the way for more advanced educational applications.\n",
    "\n",
    "In the following sections, I explain the data processing pipeline, the evaluation metrics, the deployment architecture, and finally, interpret the results and limitations of both the traditional and LLM-based recommenders.\n"
   ]
  },
  {
   "cell_type": "code",
   "execution_count": 0,
   "metadata": {
    "application/vnd.databricks.v1+cell": {
     "cellMetadata": {
      "byteLimit": 2048000,
      "rowLimit": 10000
     },
     "inputWidgets": {},
     "nuid": "63bf1c03-4e42-4763-805d-96579966a4b5",
     "showTitle": false,
     "tableResultSettingsMap": {},
     "title": ""
    }
   },
   "outputs": [
    {
     "output_type": "stream",
     "name": "stdout",
     "output_type": "stream",
     "text": [
      "\u001B[43mNote: you may need to restart the kernel using %restart_python or dbutils.library.restartPython() to use updated packages.\u001B[0m\n"
     ]
    }
   ],
   "source": [
    "%pip install -q openai"
   ]
  },
  {
   "cell_type": "markdown",
   "metadata": {
    "application/vnd.databricks.v1+cell": {
     "cellMetadata": {
      "byteLimit": 2048000,
      "rowLimit": 10000
     },
     "inputWidgets": {},
     "nuid": "68c2afb5-e533-47b0-9fab-5b81d56461b6",
     "showTitle": false,
     "tableResultSettingsMap": {},
     "title": ""
    }
   },
   "source": [
    "#### PySpark Session:\n",
    "This code initializes the PySpark session using Databricks.\n",
    "Creating a SparkSession is the first step for running PySpark code — it sets up the Spark engine and gives you the entry point to use Spark DataFrames, transformations, and distributed processing for large datasets.\n",
    "Without this step, none of the Spark operations (like loading data, filtering, or joining) would run."
   ]
  },
  {
   "cell_type": "code",
   "execution_count": 0,
   "metadata": {
    "application/vnd.databricks.v1+cell": {
     "cellMetadata": {
      "byteLimit": 2048000,
      "rowLimit": 10000
     },
     "inputWidgets": {},
     "nuid": "e796eaec-1362-4343-ab36-fd95f9a8a63b",
     "showTitle": false,
     "tableResultSettingsMap": {},
     "title": ""
    }
   },
   "outputs": [
    {
     "output_type": "stream",
     "name": "stdout",
     "output_type": "stream",
     "text": [
      "Spark Session created!\n"
     ]
    }
   ],
   "source": [
    "# Databricks / PySpark Setup\n",
    "from pyspark.sql import SparkSession\n",
    "spark = SparkSession.builder.appName(\"MovieLensFinalProject\").getOrCreate()\n",
    "print(\"Spark Session created!\")"
   ]
  },
  {
   "cell_type": "markdown",
   "metadata": {
    "application/vnd.databricks.v1+cell": {
     "cellMetadata": {
      "byteLimit": 2048000,
      "rowLimit": 10000
     },
     "inputWidgets": {},
     "nuid": "d3a27fae-1858-4ef1-9e00-cfacbb6edd3f",
     "showTitle": false,
     "tableResultSettingsMap": {},
     "title": ""
    }
   },
   "source": [
    "## 1. Mount Azure Blob Storage (Persistent Storage)"
   ]
  },
  {
   "cell_type": "markdown",
   "metadata": {
    "application/vnd.databricks.v1+cell": {
     "cellMetadata": {
      "byteLimit": 2048000,
      "rowLimit": 10000
     },
     "inputWidgets": {},
     "nuid": "e2a33204-44b0-4fd2-bbef-e72e3e06e5d9",
     "showTitle": false,
     "tableResultSettingsMap": {},
     "title": ""
    }
   },
   "source": [
    "#### My Blob Storage:\n",
    "This code mounts my Azure Blob Storage container to Databricks.\n",
    "By doing this, I connect the remote storage account (movielensstorage123) and the specific container (movielensdata) to the Databricks file system at the local mount point /mnt/movielens.\n",
    "This allows me to easily read and write files from the cloud storage as if they were part of the Databricks workspace.\n",
    "The if check ensures that the container is not mounted twice — if it’s already mounted, it skips remounting.\n",
    "This step is essential for providing persistent cloud storage, which is a requirement for the Azure hands-on component of my project."
   ]
  },
  {
   "cell_type": "code",
   "execution_count": 0,
   "metadata": {
    "application/vnd.databricks.v1+cell": {
     "cellMetadata": {
      "byteLimit": 2048000,
      "rowLimit": 10000
     },
     "inputWidgets": {},
     "nuid": "7b76a7ce-a13c-4d73-8582-67a70e494c1b",
     "showTitle": false,
     "tableResultSettingsMap": {},
     "title": ""
    }
   },
   "outputs": [
    {
     "output_type": "stream",
     "name": "stdout",
     "output_type": "stream",
     "text": [
      "Already mounted at /mnt/movielens\n"
     ]
    }
   ],
   "source": [
    "# Mount Blob Storage\n",
    "storage_account_name = \"movielensstorage123\"\n",
    "container_name = \"movielensdata\"\n",
    "mount_point = \"/mnt/movielens\"\n",
    "\n",
    "# Get the key from Spark env\n",
    "storage_account_key = spark.conf.get(\"spark.env.STORAGE_ACCOUNT_KEY\")\n",
    "\n",
    "if not any(mount.mountPoint == mount_point for mount in dbutils.fs.mounts()):\n",
    "    dbutils.fs.mount(\n",
    "        source = f\"wasbs://{container_name}@{storage_account_name}.blob.core.windows.net\",\n",
    "        mount_point = mount_point,\n",
    "        extra_configs = {\n",
    "            f\"fs.azure.account.key.{storage_account_name}.blob.core.windows.net\": storage_account_key\n",
    "        }\n",
    "    )\n",
    "    print(f\"Mounted at {mount_point}\")\n",
    "else:\n",
    "    print(f\"Already mounted at {mount_point}\")"
   ]
  },
  {
   "cell_type": "markdown",
   "metadata": {
    "application/vnd.databricks.v1+cell": {
     "cellMetadata": {
      "byteLimit": 2048000,
      "rowLimit": 10000
     },
     "inputWidgets": {},
     "nuid": "fb8fcacb-45e2-410c-92c2-2d439285c731",
     "showTitle": false,
     "tableResultSettingsMap": {},
     "title": ""
    }
   },
   "source": [
    "## 2. Load Data\n",
    "This code loads the MovieLens dataset from my mounted Azure Blob Storage into Spark DataFrames.\n",
    "Specifically, it reads two files:\n",
    "  - `ratings.dat` — which contains user ratings for movies, with columns for userId, movieId, rating, and timestamp.\n",
    "  - `movies.dat` — which includes movie details like movieId, title, and genres.\n",
    "\n",
    "After loading, I rename the columns and explicitly cast each column to the correct data type (integers for IDs, float for ratings, long for timestamps) to ensure proper downstream processing.\n",
    "\n",
    "Finally, I show the first few rows of each DataFrame to verify that the data has been loaded correctly.\n",
    "\n",
    "This step demonstrates how Spark can efficiently handle large files stored remotely in Azure Blob Storage, forming the foundation for the recommendation system."
   ]
  },
  {
   "cell_type": "code",
   "execution_count": 0,
   "metadata": {
    "application/vnd.databricks.v1+cell": {
     "cellMetadata": {
      "byteLimit": 2048000,
      "rowLimit": 10000
     },
     "inputWidgets": {},
     "nuid": "fc66bce7-e19b-4555-aed4-f2cffe651d43",
     "showTitle": false,
     "tableResultSettingsMap": {},
     "title": ""
    }
   },
   "outputs": [
    {
     "output_type": "stream",
     "name": "stdout",
     "output_type": "stream",
     "text": [
      "+------+-------+------+---------+\n|userId|movieId|rating|timestamp|\n+------+-------+------+---------+\n|     1|   1193|   5.0|978300760|\n|     1|    661|   3.0|978302109|\n|     1|    914|   3.0|978301968|\n|     1|   3408|   4.0|978300275|\n|     1|   2355|   5.0|978824291|\n+------+-------+------+---------+\nonly showing top 5 rows\n+-------+--------------------+--------------------+\n|movieId|               title|              genres|\n+-------+--------------------+--------------------+\n|      1|    Toy Story (1995)|Animation|Childre...|\n|      2|      Jumanji (1995)|Adventure|Childre...|\n|      3|Grumpier Old Men ...|      Comedy|Romance|\n|      4|Waiting to Exhale...|        Comedy|Drama|\n|      5|Father of the Bri...|              Comedy|\n+-------+--------------------+--------------------+\nonly showing top 5 rows\n"
     ]
    }
   ],
   "source": [
    "# Load Data\n",
    "ratings_df = spark.read.option(\"delimiter\", \"::\") \\\n",
    "                       .option(\"inferSchema\", True) \\\n",
    "                       .csv(f\"{mount_point}/ratings.dat\")\n",
    "\n",
    "from pyspark.sql.functions import col\n",
    "\n",
    "ratings_df = ratings_df.toDF(\"userId\", \"movieId\", \"rating\", \"timestamp\")\n",
    "\n",
    "ratings_df = ratings_df.withColumn(\"userId\", col(\"userId\").cast(\"int\")) \\\n",
    "                       .withColumn(\"movieId\", col(\"movieId\").cast(\"int\")) \\\n",
    "                       .withColumn(\"rating\", col(\"rating\").cast(\"float\")) \\\n",
    "                       .withColumn(\"timestamp\", col(\"timestamp\").cast(\"long\"))\n",
    "\n",
    "movies_df = spark.read.option(\"delimiter\", \"::\").csv(f\"{mount_point}/movies.dat\")\n",
    "movies_df = movies_df.toDF(\"movieId\", \"title\", \"genres\")\n",
    "\n",
    "# Show sample\n",
    "ratings_df.show(5)\n",
    "movies_df.show(5)"
   ]
  },
  {
   "cell_type": "markdown",
   "metadata": {
    "application/vnd.databricks.v1+cell": {
     "cellMetadata": {
      "byteLimit": 2048000,
      "rowLimit": 10000
     },
     "inputWidgets": {},
     "nuid": "b114087c-1136-4268-80b9-9f543b0713aa",
     "showTitle": false,
     "tableResultSettingsMap": {},
     "title": ""
    }
   },
   "source": [
    "The code below saves the Spark `movies_df` DataFrame to a CSV file in my mounted Azure Blob Storage.          \n",
    "First, I convert the Spark DataFrame to a Pandas DataFrame so I can use the `to_csv()` method, which writes the data to a CSV file.     \n",
    "The output path `/dbfs/mnt/movielens/movies.csv` places the file inside Databricks File System (DBFS), which is mounted directly to my Azure Blob Storage container.\n",
    "This step shows how Spark and Databricks can easily export processed data back to persistent cloud storage for later use, sharing, or external access."
   ]
  },
  {
   "cell_type": "code",
   "execution_count": 0,
   "metadata": {
    "application/vnd.databricks.v1+cell": {
     "cellMetadata": {
      "byteLimit": 2048000,
      "rowLimit": 10000
     },
     "inputWidgets": {},
     "nuid": "cd6bc500-2325-4b73-9333-4d98839cdd86",
     "showTitle": false,
     "tableResultSettingsMap": {},
     "title": ""
    }
   },
   "outputs": [],
   "source": [
    "# Save the Spark dataframe to CSV on DBFS (Databricks File System)\n",
    "csv_path = \"/dbfs/mnt/movielens/movies.csv\"\n",
    "\n",
    "# Convert to pandas dataframe and save\n",
    "movies_df.toPandas().to_csv(csv_path, index=False)"
   ]
  },
  {
   "cell_type": "markdown",
   "metadata": {
    "application/vnd.databricks.v1+cell": {
     "cellMetadata": {
      "byteLimit": 2048000,
      "rowLimit": 10000
     },
     "inputWidgets": {},
     "nuid": "8fd4129a-5335-4544-9824-abfb76dbdcce",
     "showTitle": false,
     "tableResultSettingsMap": {},
     "title": ""
    }
   },
   "source": [
    "## 3. Data Cleaning & Type Casting\n",
    "This code performs additional data cleaning and type casting on my DataFrames.      \n",
    "I explicitly cast the `userId`, `movieId`, `rating`, and `timestamp` columns in `ratings_df` to their appropriate data types (integers, float, long) to ensure consistency and correct behavior during analysis and model training.       \n",
    "Similarly, I cast the `movieId` in `movies_df` to integer to align with `ratings_df`.       \n",
    "Doing this step guarantees that joins, filters, and calculations will work properly without unexpected type mismatches — which is crucial for building a reliable recommender system."
   ]
  },
  {
   "cell_type": "code",
   "execution_count": 0,
   "metadata": {
    "application/vnd.databricks.v1+cell": {
     "cellMetadata": {
      "byteLimit": 2048000,
      "rowLimit": 10000
     },
     "inputWidgets": {},
     "nuid": "68b9b7e0-3369-4715-8e2b-382bbc6f99ec",
     "showTitle": false,
     "tableResultSettingsMap": {},
     "title": ""
    }
   },
   "outputs": [],
   "source": [
    "#  Data Cleaning & Type Casting\n",
    "from pyspark.sql.functions import col\n",
    "\n",
    "ratings_df = ratings_df.withColumn(\"userId\", col(\"userId\").cast(\"int\")) \\\n",
    "                       .withColumn(\"movieId\", col(\"movieId\").cast(\"int\")) \\\n",
    "                       .withColumn(\"rating\", col(\"rating\").cast(\"float\")) \\\n",
    "                       .withColumn(\"timestamp\", col(\"timestamp\").cast(\"long\"))\n",
    "\n",
    "movies_df = movies_df.withColumn(\"movieId\", col(\"movieId\").cast(\"int\"))"
   ]
  },
  {
   "cell_type": "markdown",
   "metadata": {
    "application/vnd.databricks.v1+cell": {
     "cellMetadata": {
      "byteLimit": 2048000,
      "rowLimit": 10000
     },
     "inputWidgets": {},
     "nuid": "83ffd7d8-d042-454e-8de9-096954f7e6a0",
     "showTitle": false,
     "tableResultSettingsMap": {},
     "title": ""
    }
   },
   "source": [
    "## 4.\n",
    "### 4.1 Enrich Movies Data: Extract Genres as Array\n",
    "This code enriches the `movies_df` DataFrame with structured content features by splitting the `genres` column into an array of individual genres.      \n",
    "The original `genres` field is a single string with genres separated by the `|` character (e.g., `\"Comedy|Drama\"`).       \n",
    "Using Spark’s `split()` function, I convert this into an array of genre values for each movie, making it easier to work with during similarity calculations or diversity metrics.\n",
    "I display the result to verify that the genres are now stored as clean lists, which improves the quality of content-based filtering and advanced metrics later on."
   ]
  },
  {
   "cell_type": "code",
   "execution_count": 0,
   "metadata": {
    "application/vnd.databricks.v1+cell": {
     "cellMetadata": {
      "byteLimit": 2048000,
      "rowLimit": 10000
     },
     "inputWidgets": {},
     "nuid": "ea006f27-89a8-4af6-b7e3-2c33ab27e63a",
     "showTitle": false,
     "tableResultSettingsMap": {},
     "title": ""
    }
   },
   "outputs": [
    {
     "output_type": "stream",
     "name": "stdout",
     "output_type": "stream",
     "text": [
      "+-------+----------------------------------+--------------------------------+\n|movieId|title                             |genres                          |\n+-------+----------------------------------+--------------------------------+\n|1      |Toy Story (1995)                  |[Animation, Children's, Comedy] |\n|2      |Jumanji (1995)                    |[Adventure, Children's, Fantasy]|\n|3      |Grumpier Old Men (1995)           |[Comedy, Romance]               |\n|4      |Waiting to Exhale (1995)          |[Comedy, Drama]                 |\n|5      |Father of the Bride Part II (1995)|[Comedy]                        |\n+-------+----------------------------------+--------------------------------+\nonly showing top 5 rows\n"
     ]
    }
   ],
   "source": [
    "# Enrich with Content Features\n",
    "# Extract genres from movies_df (I join in scraped taglines and poster paths -if available- in next code chunk)\n",
    "from pyspark.sql.functions import split\n",
    "\n",
    "movies_df = movies_df.withColumn(\"genres\", split(col(\"genres\"), \"\\\\|\"))\n",
    "movies_df.select(\"movieId\", \"title\", \"genres\").show(5, truncate=False)"
   ]
  },
  {
   "cell_type": "markdown",
   "metadata": {
    "application/vnd.databricks.v1+cell": {
     "cellMetadata": {
      "byteLimit": 2048000,
      "rowLimit": 10000
     },
     "inputWidgets": {},
     "nuid": "929d77ea-d1f8-495e-aa7e-b51a3fc245af",
     "showTitle": false,
     "tableResultSettingsMap": {},
     "title": ""
    }
   },
   "source": [
    "### 4.2 Enrich Movies Data with additional features\n",
    "This code uses the TMDb API to enrich the MovieLens movies with additional content features: taglines, poster paths, and TMDb IDs.\n",
    "\n",
    "First, it loads the `movies.csv` file (previously saved from Spark) into a Pandas DataFrame. Then, for each movie, it extracts the movie title and release year, searches the TMDb API for a matching movie, and retrieves its `tagline` and `poster_path` if available.\n",
    "\n",
    "This loop also respects TMDb’s API rate limits with a short sleep between requests. Once all details are fetched, the new information (`tmdb_id`, `tagline`, `poster_path`) is added as new columns in the DataFrame.\n",
    "\n",
    "Finally, the enriched movie data is saved back as `scraped_taglines.csv` directly in the mounted Azure Blob Storage container.\n",
    "\n",
    "This step demonstrates how external data can be integrated to enhance content-based features, making the recommender system richer and more flexible — for example, taglines could be used for natural language similarity or metadata-driven recommendations."
   ]
  },
  {
   "cell_type": "code",
   "execution_count": 0,
   "metadata": {
    "application/vnd.databricks.v1+cell": {
     "cellMetadata": {
      "byteLimit": 2048000,
      "rowLimit": 10000
     },
     "inputWidgets": {},
     "nuid": "e3954334-864e-42c4-86c2-09e2e35aa3f0",
     "showTitle": false,
     "tableResultSettingsMap": {},
     "title": ""
    }
   },
   "outputs": [
    {
     "output_type": "stream",
     "name": "stdout",
     "output_type": "stream",
     "text": [
      "✅ Done! Saved to /dbfs/mnt/movielens/scraped_taglines.csv\n"
     ]
    }
   ],
   "source": [
    "import pandas as pd\n",
    "import requests\n",
    "import time\n",
    "\n",
    "# ✅ Get TMDb API key from Spark environment\n",
    "API_KEY = spark.conf.get(\"spark.env.TMDB_API_KEY\")\n",
    "\n",
    "# ✅ Input MovieLens CSV\n",
    "INPUT_CSV = \"/dbfs/mnt/movielens/movies.csv\"\n",
    "\n",
    "# ✅ Output file — save directly in your mount!\n",
    "OUTPUT_CSV = \"/dbfs/mnt/movielens/scraped_taglines.csv\"\n",
    "\n",
    "# Load movies\n",
    "movies = pd.read_csv(INPUT_CSV)\n",
    "\n",
    "# Extract year\n",
    "movies[\"year\"] = movies[\"title\"].str.extract(r\"\\((\\d{4})\\)\").astype(float)\n",
    "\n",
    "taglines = []\n",
    "poster_paths = []\n",
    "tmdb_ids = []\n",
    "\n",
    "for idx, row in movies.iterrows():\n",
    "    title = row[\"title\"].split(\"(\")[0].strip()\n",
    "    year = int(row[\"year\"]) if not pd.isna(row[\"year\"]) else None\n",
    "\n",
    "    # Search TMDb\n",
    "    search_url = \"https://api.themoviedb.org/3/search/movie\"\n",
    "    params = {\"api_key\": API_KEY, \"query\": title}\n",
    "    if year:\n",
    "        params[\"year\"] = year\n",
    "\n",
    "    response = requests.get(search_url, params=params)\n",
    "    data = response.json()\n",
    "\n",
    "    if \"results\" in data and data[\"results\"]:\n",
    "        tmdb_id = data[\"results\"][0][\"id\"]\n",
    "        tmdb_ids.append(tmdb_id)\n",
    "\n",
    "        # Get movie details\n",
    "        details_url = f\"https://api.themoviedb.org/3/movie/{tmdb_id}\"\n",
    "        details_params = {\"api_key\": API_KEY}\n",
    "        details_resp = requests.get(details_url, params=details_params)\n",
    "        details = details_resp.json()\n",
    "\n",
    "        tagline = details.get(\"tagline\", \"\")\n",
    "        poster_path = details.get(\"poster_path\", \"\")\n",
    "\n",
    "        taglines.append(tagline)\n",
    "        poster_paths.append(poster_path)\n",
    "    else:\n",
    "        tmdb_ids.append(None)\n",
    "        taglines.append(\"\")\n",
    "        poster_paths.append(\"\")\n",
    "\n",
    "    # Respect TMDb rate limits\n",
    "    time.sleep(0.25)\n",
    "\n",
    "# Add results to DataFrame\n",
    "movies[\"tmdb_id\"] = tmdb_ids\n",
    "movies[\"tagline\"] = taglines\n",
    "movies[\"poster_path\"] = poster_paths\n",
    "\n",
    "# ✅ Save directly to your container\n",
    "movies.to_csv(OUTPUT_CSV, index=False)\n",
    "\n",
    "print(f\"✅ Done! Saved to {OUTPUT_CSV}\")"
   ]
  },
  {
   "cell_type": "markdown",
   "metadata": {
    "application/vnd.databricks.v1+cell": {
     "cellMetadata": {
      "byteLimit": 2048000,
      "rowLimit": 10000
     },
     "inputWidgets": {},
     "nuid": "42d186c4-fecc-4575-afd7-d9689568446b",
     "showTitle": false,
     "tableResultSettingsMap": {},
     "title": ""
    }
   },
   "source": [
    "This code loads the enriched movie data with taglines and poster paths back into Spark and joins it with the original `movies_df`.\n",
    "\n",
    "First, it reads the `scraped_taglines.csv` file (created in the previous step) into a new Spark DataFrame, `taglines_df`. Then it performs a left join to merge the new columns (`tagline` and `poster_path`) into the original `movies_df` based on the `movieId`.\n",
    "\n",
    "The result, `movies_enriched_df`, now includes structured genres and descriptive taglines for each movie, as well as poster image paths. Displaying the first few rows confirms that the join worked as expected.\n",
    "\n",
    "This step completes the content enrichment pipeline, combining MovieLens metadata with external TMDb information — which can improve the recommender system’s ability to generate more context-aware or visually rich suggestions."
   ]
  },
  {
   "cell_type": "code",
   "execution_count": 0,
   "metadata": {
    "application/vnd.databricks.v1+cell": {
     "cellMetadata": {
      "byteLimit": 2048000,
      "rowLimit": 10000
     },
     "inputWidgets": {},
     "nuid": "ff719d62-4b7d-4144-acec-c0bcd3802f15",
     "showTitle": false,
     "tableResultSettingsMap": {},
     "title": ""
    }
   },
   "outputs": [
    {
     "output_type": "stream",
     "name": "stdout",
     "output_type": "stream",
     "text": [
      "+-------+----------------------------------+-------------------------------+------------------------------------------------------------------------------+-------------------------------------------------------------------------------------------+\n|movieId|title                             |genres                         |tagline                                                                       |content                                                                                    |\n+-------+----------------------------------+-------------------------------+------------------------------------------------------------------------------+-------------------------------------------------------------------------------------------+\n|1      |Toy Story (1995)                  |[Animation, Children's, Comedy]|The adventure takes off when toys come to life!                               |Animation Children's Comedy The adventure takes off when toys come to life!                |\n|6      |Heat (1995)                       |[Action, Crime, Thriller]      |A Los Angeles crime saga.                                                     |Action Crime Thriller A Los Angeles crime saga.                                            |\n|3      |Grumpier Old Men (1995)           |[Comedy, Romance]              |Still Yelling. Still Fighting. Still Ready for Love.                          |Comedy Romance Still Yelling. Still Fighting. Still Ready for Love.                        |\n|5      |Father of the Bride Part II (1995)|[Comedy]                       |Just when his world is back to normal... he's in for the surprise of his life!|Comedy Just when his world is back to normal... he's in for the surprise of his life!      |\n|4      |Waiting to Exhale (1995)          |[Comedy, Drama]                |Friends are the people who let you be yourself... and never let you forget it.|Comedy Drama Friends are the people who let you be yourself... and never let you forget it.|\n+-------+----------------------------------+-------------------------------+------------------------------------------------------------------------------+-------------------------------------------------------------------------------------------+\nonly showing top 5 rows\n"
     ]
    }
   ],
   "source": [
    "# Read the scraped taglines with Spark\n",
    "taglines_df = spark.read.csv(\"dbfs:/mnt/movielens/scraped_taglines.csv\", header=True, inferSchema=True)\n",
    "\n",
    "# Join with your original movies_df\n",
    "movies_enriched_df = movies_df.join(\n",
    "    taglines_df.select(\"movieId\", \"tagline\", \"poster_path\"),\n",
    "    on=\"movieId\",\n",
    "    how=\"left\"\n",
    ")\n",
    "\n",
    "# Combine genres + tagline\n",
    "from pyspark.sql.functions import concat_ws, col\n",
    "\n",
    "movies_enriched_df = movies_enriched_df.withColumn(\n",
    "    \"content\",\n",
    "    concat_ws(\" \", col(\"genres\"), col(\"tagline\"))\n",
    ")\n",
    "\n",
    "movies_enriched_df.select(\"movieId\", \"title\", \"genres\", \"tagline\", \"content\").show(5, truncate=False)"
   ]
  },
  {
   "cell_type": "markdown",
   "metadata": {
    "application/vnd.databricks.v1+cell": {
     "cellMetadata": {
      "byteLimit": 2048000,
      "rowLimit": 10000
     },
     "inputWidgets": {},
     "nuid": "ad800dc5-1679-4d83-a849-fc0bac749da5",
     "showTitle": false,
     "tableResultSettingsMap": {},
     "title": ""
    }
   },
   "source": [
    "## 5. Train/Test Split (Last rating per user as test)\n",
    "\n",
    "The code below splits the MovieLens ratings data into training and test sets using a time-based strategy.\n",
    "\n",
    "First, it defines a Spark `Window` that partitions the data by `userId` and orders each user’s ratings by `timestamp` in descending order. It then adds a `row_num` column to mark the most recent rating for each user as `1`.\n",
    "\n",
    "The most recent rating for each user is selected as the test set (`test_df`), simulating a realistic scenario where the recommender must predict future interactions. All other ratings are used for training (`train_df`).\n",
    "\n",
    "The final `print` statement confirms the sizes of the splits, showing that the system will train on over **990,000 ratings** and evaluate on about **6,000 holdout interactions** — ensuring a robust and fair offline evaluation."
   ]
  },
  {
   "cell_type": "code",
   "execution_count": 0,
   "metadata": {
    "application/vnd.databricks.v1+cell": {
     "cellMetadata": {
      "byteLimit": 2048000,
      "rowLimit": 10000
     },
     "inputWidgets": {},
     "nuid": "d46d8fbd-f02a-4238-aa07-8839993e19cb",
     "showTitle": false,
     "tableResultSettingsMap": {},
     "title": ""
    }
   },
   "outputs": [
    {
     "output_type": "stream",
     "name": "stdout",
     "output_type": "stream",
     "text": [
      "Train count: 994169, Test count: 6040\n"
     ]
    }
   ],
   "source": [
    "# Train/Test Split\n",
    "from pyspark.sql.window import Window\n",
    "from pyspark.sql.functions import row_number\n",
    "\n",
    "window = Window.partitionBy(\"userId\").orderBy(col(\"timestamp\").desc())\n",
    "ratings_df = ratings_df.withColumn(\"row_num\", row_number().over(window))\n",
    "\n",
    "test_df = ratings_df.filter(col(\"row_num\") == 1).drop(\"row_num\")\n",
    "train_df = ratings_df.filter(col(\"row_num\") > 1).drop(\"row_num\")\n",
    "\n",
    "print(f\"Train count: {train_df.count()}, Test count: {test_df.count()}\")"
   ]
  },
  {
   "cell_type": "markdown",
   "metadata": {
    "application/vnd.databricks.v1+cell": {
     "cellMetadata": {
      "byteLimit": 2048000,
      "rowLimit": 10000
     },
     "inputWidgets": {},
     "nuid": "bea5739f-2681-47ec-ba9c-f0827581e2f0",
     "showTitle": false,
     "tableResultSettingsMap": {},
     "title": ""
    }
   },
   "source": [
    "## 6. Baseline: Global Average Rating\n",
    "\n",
    "This simple baseline predicts the same rating for every user–movie pair using just the global mean of all ratings in the training set.\n",
    "\n",
    "**_How it works:_**\n",
    "\n",
    "- Calculates the overall average rating across all users and movies.\n",
    "\n",
    "- Uses that single number as the predicted rating for any unseen movie.\n",
    "\n",
    "**_Why include it?_**\n",
    "\n",
    "- This is the most basic benchmark — any useful recommender must do better than guessing the same number every time.\n",
    "\n",
    "- Comparing RMSE or MAE against this naive predictor shows how much more signal your collaborative, content-based, or LLM systems add.\n",
    "\n",
    "**_Output:_**\n",
    "\n",
    "- Prints the global average, **3.58**, which would be used as the prediction for all test ratings."
   ]
  },
  {
   "cell_type": "code",
   "execution_count": 0,
   "metadata": {
    "application/vnd.databricks.v1+cell": {
     "cellMetadata": {
      "byteLimit": 2048000,
      "rowLimit": 10000
     },
     "inputWidgets": {},
     "nuid": "3ddc69b5-32b6-4243-84e6-07a86b575baf",
     "showTitle": false,
     "tableResultSettingsMap": {},
     "title": ""
    }
   },
   "outputs": [
    {
     "output_type": "stream",
     "name": "stdout",
     "output_type": "stream",
     "text": [
      "Global average rating: 3.5814\n"
     ]
    }
   ],
   "source": [
    "from pyspark.sql.functions import avg\n",
    "\n",
    "global_avg = train_df.select(avg(col(\"rating\")).alias(\"global_avg\")).collect()[0][\"global_avg\"]\n",
    "print(f\"Global average rating: {global_avg:.4f}\")"
   ]
  },
  {
   "cell_type": "markdown",
   "metadata": {
    "application/vnd.databricks.v1+cell": {
     "cellMetadata": {
      "byteLimit": 2048000,
      "rowLimit": 10000
     },
     "inputWidgets": {},
     "nuid": "bcbe7451-ede7-4285-b045-b4f1bdf3e1c6",
     "showTitle": false,
     "tableResultSettingsMap": {},
     "title": ""
    }
   },
   "source": [
    "**Interpretations:**\n",
    "\n",
    "The global average rating serves as a simple baseline for recommendations. It shows that users in this dataset tend to rate movies slightly above the midpoint on the 1–5 scale.\n",
    "\n",
    "Many traditional algorithms (such as **collaborative filtering** or **matrix factorization**) use this global mean as a starting point, adjusting predictions by learning how specific users and items deviate from it.\n",
    "\n",
    "In practice, a recommender system should significantly outperform this trivial baseline by delivering personalized predictions closer to each user’s true preferences."
   ]
  },
  {
   "cell_type": "markdown",
   "metadata": {
    "application/vnd.databricks.v1+cell": {
     "cellMetadata": {
      "byteLimit": 2048000,
      "rowLimit": 10000
     },
     "inputWidgets": {},
     "nuid": "6e8a856c-ee36-4d5e-9c62-e77e2a47f457",
     "showTitle": false,
     "tableResultSettingsMap": {},
     "title": ""
    }
   },
   "source": [
    "## 7. Baseline: User and Item Biases\n",
    "\n",
    "This block refines the global average by adding simple bias adjustments for users and items:\n",
    "\n",
    "**_How it works:_**\n",
    "\n",
    "- **User Mean:** Accounts for the fact that some users tend to rate higher or lower than average. For example, a user who always gives 5 stars will have a higher user bias.\n",
    "\n",
    "- **Item Mean:** Accounts for the fact that some movies tend to get higher or lower average ratings than others (classics vs. flops).\n",
    "\n",
    "_**Why include it?**_\n",
    "\n",
    "- This is a stronger baseline than the pure global average — it personalizes predictions slightly by shifting them based on user and item tendencies.\n",
    "\n",
    "- It shows whether your more advanced models (ALS, content-based, LLM) can capture more complex interactions beyond these simple linear effects.\n",
    "\n",
    "**_Output:_**\n",
    "\n",
    "- Displays the average rating for a few users and items, showing how each differs from the global mean."
   ]
  },
  {
   "cell_type": "code",
   "execution_count": 0,
   "metadata": {
    "application/vnd.databricks.v1+cell": {
     "cellMetadata": {
      "byteLimit": 2048000,
      "rowLimit": 10000
     },
     "inputWidgets": {},
     "nuid": "42ee670f-f49e-437b-aa9c-e2738beee928",
     "showTitle": false,
     "tableResultSettingsMap": {},
     "title": ""
    }
   },
   "outputs": [
    {
     "output_type": "stream",
     "name": "stdout",
     "output_type": "stream",
     "text": [
      "+------+------------------+\n|userId|          user_avg|\n+------+------------------+\n|     1| 4.173076923076923|\n|    12|3.8636363636363638|\n|    22| 3.064189189189189|\n|    26|2.9649122807017543|\n|    27| 4.159420289855072|\n+------+------------------+\nonly showing top 5 rows\n+-------+------------------+\n|movieId|          item_avg|\n+-------+------------------+\n|    833|2.1794871794871793|\n|   1580|3.7390099009900992|\n|   2122|2.4347826086956523|\n|    463|  2.74468085106383|\n|   1645| 3.432926829268293|\n+-------+------------------+\nonly showing top 5 rows\n"
     ]
    }
   ],
   "source": [
    "user_avg = train_df.groupBy(\"userId\").agg({\"rating\": \"avg\"}).withColumnRenamed(\"avg(rating)\", \"user_avg\")\n",
    "item_avg = train_df.groupBy(\"movieId\").agg({\"rating\": \"avg\"}).withColumnRenamed(\"avg(rating)\", \"item_avg\")\n",
    "\n",
    "user_avg.show(5)\n",
    "item_avg.show(5)"
   ]
  },
  {
   "cell_type": "markdown",
   "metadata": {
    "application/vnd.databricks.v1+cell": {
     "cellMetadata": {
      "byteLimit": 2048000,
      "rowLimit": 10000
     },
     "inputWidgets": {},
     "nuid": "4f4c6af9-6b97-4b83-b6f6-3e7ffeb23add",
     "showTitle": false,
     "tableResultSettingsMap": {},
     "title": ""
    }
   },
   "source": [
    "**Interpretation:**\n",
    "\n",
    "This baseline shows how **individual users** tend to rate differently (some are harsh, some are generous), and how some movies are consistently liked or disliked.\n",
    "\n",
    "For example, the sample output shows that **User 1** has an average rating of about **4.17**, which is well above the global average of **3.58** — meaning they generally rate movies higher than average.\n",
    "\n",
    "Similarly, **Movie 833** has an average rating of **2.17**, suggesting it is generally disliked.\n",
    "\n",
    "Many recommender systems use these user and item biases to adjust predictions — for example, matrix factorization models predict:\n",
    "\n",
    "> *predicted rating = global average + user bias + item bias*\n",
    "\n",
    "This baseline helps explain part of the variation in ratings using simple statistics before **learning complex latent factors**."
   ]
  },
  {
   "cell_type": "markdown",
   "metadata": {
    "application/vnd.databricks.v1+cell": {
     "cellMetadata": {
      "byteLimit": 2048000,
      "rowLimit": 10000
     },
     "inputWidgets": {},
     "nuid": "afe2263a-3d8e-444a-bc5e-e218ce542561",
     "showTitle": false,
     "tableResultSettingsMap": {},
     "title": ""
    }
   },
   "source": [
    "## 8. Popularity-Based Recommender\n",
    "\n",
    "This block implements a popularity-based recommender, another simple baseline that ignores personal preferences.\n",
    "\n",
    "_**How it works:**_\n",
    "\n",
    "- It counts how many ratings each movie has in the training set to measure its overall popularity.\n",
    "\n",
    "- For each user, it recommends the top-N most popular movies they haven’t seen yet.\n",
    "\n",
    "- It uses crossJoin and left_anti to filter out movies the user has already rated.\n",
    "\n",
    "**_Why compare?_**\n",
    "\n",
    "- Popularity-based recommendations are a practical real-world baseline — for example, streaming services often promote trending or blockbuster content.\n",
    "\n",
    "- Unlike the ALS model (collaborative) or the TF-IDF model (content-based with taglines), this approach does not personalize recommendations beyond removing already-watched items.\n",
    "\n",
    "- Comparing your popularity-only results to collaborative, content-based, and LLM-generated recommendations shows how much personalized models improve over simple “most popular” lists.\n",
    "\n",
    "**_Outputs:_**\n",
    "\n",
    "- The first table shows the most popular movies overall.\n",
    "\n",
    "- The final output shows sample movie recommendations for each user, based purely on popularity."
   ]
  },
  {
   "cell_type": "code",
   "execution_count": 0,
   "metadata": {
    "application/vnd.databricks.v1+cell": {
     "cellMetadata": {
      "byteLimit": 2048000,
      "rowLimit": 10000
     },
     "inputWidgets": {},
     "nuid": "9a58ec89-a4fb-49a7-b0a9-0de2413b2cbd",
     "showTitle": false,
     "tableResultSettingsMap": {},
     "title": ""
    }
   },
   "outputs": [
    {
     "output_type": "stream",
     "name": "stdout",
     "output_type": "stream",
     "text": [
      "+-------+-----------+--------------------+--------------------+\n|movieId|num_ratings|               title|              genres|\n+-------+-----------+--------------------+--------------------+\n|   2858|       3398|American Beauty (...|     [Comedy, Drama]|\n|   1196|       2984|Star Wars: Episod...|[Action, Adventur...|\n|    260|       2971|Star Wars: Episod...|[Action, Adventur...|\n|   1210|       2879|Star Wars: Episod...|[Action, Adventur...|\n|    480|       2659|Jurassic Park (1993)|[Action, Adventur...|\n|   2028|       2650|Saving Private Ry...|[Action, Drama, War]|\n|    589|       2618|Terminator 2: Jud...|[Action, Sci-Fi, ...|\n|   2571|       2577|  Matrix, The (1999)|[Action, Sci-Fi, ...|\n|   1270|       2570|Back to the Futur...|    [Comedy, Sci-Fi]|\n|    593|       2558|Silence of the La...|   [Drama, Thriller]|\n+-------+-----------+--------------------+--------------------+\nonly showing top 10 rows\n+------+-------+\n|userId|movieId|\n+------+-------+\n|     1|   2858|\n|     6|    260|\n|    12|   1210|\n|    16|   2028|\n|    27|    593|\n|    28|   1580|\n|    31|   1198|\n|    34|    608|\n|    40|   2762|\n|    44|    110|\n+------+-------+\nonly showing top 10 rows\n"
     ]
    }
   ],
   "source": [
    "from pyspark.sql.functions import count\n",
    "\n",
    "movie_popularity = train_df.groupBy(\"movieId\").agg(count(\"*\").alias(\"num_ratings\")) \\\n",
    "    .join(movies_df, \"movieId\") \\\n",
    "    .orderBy(col(\"num_ratings\").desc())\n",
    "\n",
    "movie_popularity.show(10)\n",
    "\n",
    "from pyspark.sql.functions import desc\n",
    "\n",
    "# Step 1: Count popularity\n",
    "movie_pop = train_df.groupBy(\"movieId\").agg(count(\"*\").alias(\"popularity\"))\n",
    "movie_pop = movie_pop.orderBy(desc(\"popularity\"))\n",
    "\n",
    "# Step 2: For each user, recommend top-N popular movies they haven't seen\n",
    "user_seen = train_df.select(\"userId\", \"movieId\")\n",
    "users = train_df.select(\"userId\").distinct()\n",
    "top_movies = movie_pop.limit(100)  # adjust N as needed\n",
    "\n",
    "# Cross join users with top movies, then filter out seen\n",
    "from pyspark.sql.functions import broadcast\n",
    "\n",
    "pop_recs = (\n",
    "    users.crossJoin(broadcast(top_movies.select(\"movieId\")))\n",
    "    .join(broadcast(user_seen), [\"userId\", \"movieId\"], \"left_anti\")\n",
    "    .select(\"userId\", \"movieId\")\n",
    ")\n",
    "\n",
    "pop_recs.show(10)"
   ]
  },
  {
   "cell_type": "markdown",
   "metadata": {
    "application/vnd.databricks.v1+cell": {
     "cellMetadata": {
      "byteLimit": 2048000,
      "rowLimit": 10000
     },
     "inputWidgets": {},
     "nuid": "1abedb3f-29a1-462b-b25a-ad0af531d0b4",
     "showTitle": false,
     "tableResultSettingsMap": {},
     "title": ""
    }
   },
   "source": [
    "**Interpretation:**  \n",
    "\n",
    "From the output, we can see that *American Beauty (1999)*, *Star Wars*, *Jurassic Park*, *Saving Private Ryan*, etc. are among the top recommended movies because they have the most ratings in the dataset.  \n",
    "This baseline shows how simple popularity can drive recommendations, but it does not personalize for user preferences — which more advanced methods will improve on."
   ]
  },
  {
   "cell_type": "markdown",
   "metadata": {
    "application/vnd.databricks.v1+cell": {
     "cellMetadata": {
      "byteLimit": 2048000,
      "rowLimit": 10000
     },
     "inputWidgets": {},
     "nuid": "06db5e15-ee73-4ada-b603-c0a9a692e1b6",
     "showTitle": false,
     "tableResultSettingsMap": {},
     "title": ""
    }
   },
   "source": [
    "## 9. Content-Based Filtering \n",
    "\n",
    "#### TF-IDF Feature Creation\n",
    "\n",
    "This block prepares a text representation for each movie by combining its `genres` and `tagline` into one `content` field and then converting that text into numerical features using TF-IDF (Term Frequency–Inverse Document Frequency).\n",
    "\n",
    "- **Tokenizer:** Splits the `content` text into individual words.\n",
    "\n",
    "- **HashingTF:** Maps the words to a fixed-length vector using hashing and counts the word occurrences.\n",
    "    \n",
    "- **IDF:** Scales the word counts by how rare each word is across all movies — giving more weight to distinctive words.\n",
    "\n",
    "✅ **Purpose:** This turns each movie’s combined genre + tagline into a vector that captures its unique content characteristics."
   ]
  },
  {
   "cell_type": "code",
   "execution_count": 0,
   "metadata": {
    "application/vnd.databricks.v1+cell": {
     "cellMetadata": {
      "byteLimit": 2048000,
      "rowLimit": 10000
     },
     "inputWidgets": {},
     "nuid": "72f45d41-494f-4fd8-a70d-3b941be676d5",
     "showTitle": false,
     "tableResultSettingsMap": {},
     "title": ""
    }
   },
   "outputs": [
    {
     "output_type": "stream",
     "name": "stdout",
     "output_type": "stream",
     "text": [
      "\uD83C\uDFC3 View run marvelous-grub-847 at: https://adb-1897642321259405.5.azuredatabricks.net/ml/experiments/2935295099286564/runs/def9339a9ff44a829b6219215fefd759\n\uD83E\uDDEA View experiment at: https://adb-1897642321259405.5.azuredatabricks.net/ml/experiments/2935295099286564\n+-------+----------------------------------+-------------------------------------------------------------------------------------------+------------------------------------------------------------------------------------------------------------------------------------------------------------------------------------------------------------------------------------------------------------------------------------------------------------------------------------------------------+\n|movieId|title                             |content                                                                                    |features                                                                                                                                                                                                                                                                                                                                              |\n+-------+----------------------------------+-------------------------------------------------------------------------------------------+------------------------------------------------------------------------------------------------------------------------------------------------------------------------------------------------------------------------------------------------------------------------------------------------------------------------------------------------------+\n|1      |Toy Story (1995)                  |Animation Children's Comedy The adventure takes off when toys come to life!                |(1000,[17,76,219,224,232,457,488,568,644,653,833,964],[1.0413251498489011,3.610660479253692,2.684891003424993,4.768113267944735,1.154741366338944,4.83063362492607,1.9420555894839315,5.374249071515051,4.897324999424741,3.5196887010479654,2.483877313618886,4.435979432922121])                                                                    |\n|6      |Heat (1995)                       |Action Crime Thriller A Los Angeles crime saga.                                            |(1000,[157,467,586,633,731,777,889],[3.798712710756632,1.3648977221263427,1.9955245457049542,2.024344984240446,5.618599428107029,5.2200983916877925,5.866725556612845])                                                                                                                                                                               |\n|3      |Grumpier Old Men (1995)           |Comedy Romance Still Yelling. Still Fighting. Still Ready for Love.                        |(1000,[232,344,357,362,526,557,712,910],[1.154741366338944,2.486968506188559,4.221569561576666,5.492032107171434,1.8930089821793592,5.2200983916877925,13.373875018922686,5.699671471949679])                                                                                                                                                         |\n|5      |Father of the Bride Part II (1995)|Comedy Just when his world is back to normal... he's in for the surprise of his life!      |(1000,[17,76,204,209,232,307,344,360,430,457,488,495,663,840,933],[1.0413251498489011,3.610660479253692,6.3187106803559026,2.17105105936608,1.154741366338944,3.7213260471412117,2.486968506188559,3.5732729471820717,4.239269138676066,4.83063362492607,1.9420555894839315,1.7381259698404254,2.116152533493569,8.181859687178036,5.492032107171434])|\n|4      |Waiting to Exhale (1995)          |Comedy Drama Friends are the people who let you be yourself... and never let you forget it.|(1000,[17,144,146,199,232,263,267,281,338,763,805,814,855,891],[1.0413251498489011,0.8725892618966243,5.492032107171434,4.897324999424741,1.154741366338944,2.9713160046867233,10.17313399812654,3.601181735299148,5.354744342021932,3.221195712491969,6.689279807166181,5.431407485355,2.587867027142934,2.0500127309890237])                        |\n+-------+----------------------------------+-------------------------------------------------------------------------------------------+------------------------------------------------------------------------------------------------------------------------------------------------------------------------------------------------------------------------------------------------------------------------------------------------------------------------------------------------------+\nonly showing top 5 rows\n"
     ]
    }
   ],
   "source": [
    "# Build the TF-IDF pipeline for all movies\n",
    "from pyspark.ml.feature import Tokenizer, HashingTF, IDF\n",
    "\n",
    "# Tokenize\n",
    "tokenizer = Tokenizer(inputCol=\"content\", outputCol=\"content_words\")\n",
    "words_data = tokenizer.transform(movies_enriched_df)\n",
    "\n",
    "# TF\n",
    "hashingTF = HashingTF(inputCol=\"content_words\", outputCol=\"rawFeatures\", numFeatures=1000)\n",
    "featurized_data = hashingTF.transform(words_data)\n",
    "\n",
    "# IDF\n",
    "idf = IDF(inputCol=\"rawFeatures\", outputCol=\"features\")\n",
    "idf_model = idf.fit(featurized_data)\n",
    "tfidf_df = idf_model.transform(featurized_data)\n",
    "\n",
    "tfidf_df.select(\"movieId\", \"title\", \"content\", \"features\").show(5, truncate=False)"
   ]
  },
  {
   "cell_type": "markdown",
   "metadata": {
    "application/vnd.databricks.v1+cell": {
     "cellMetadata": {
      "byteLimit": 2048000,
      "rowLimit": 10000
     },
     "inputWidgets": {},
     "nuid": "5467db94-5fcf-4d4b-b2a8-05b4d5852488",
     "showTitle": false,
     "tableResultSettingsMap": {},
     "title": ""
    }
   },
   "source": [
    "#### Reusable Content-Based Recommendation Function\n",
    "\n",
    "This section defines a general-purpose Python function that generates personalized movie recommendations for any user using the TF-IDF vectors you just built.\n",
    "\n",
    "- Input: The user’s ID, the training ratings, and the TF-IDF movie features.\n",
    "\n",
    "- The function filters for the movies the user liked (rated ≥ 4).\n",
    "\n",
    "- For each liked movie, it computes the cosine similarity between its vector and every other movie’s vector.\n",
    "\n",
    "- If the user liked multiple movies, it adds up the similarities to capture multiple interests.\n",
    "\n",
    "- It filters out movies the user has already rated.\n",
    "\n",
    "- Finally, it returns the top-N most similar movies as recommendations.\n",
    "\n",
    "✅ **Purpose:** It predicts which movies are similar in content to what the user liked — using both genres and taglines."
   ]
  },
  {
   "cell_type": "code",
   "execution_count": 0,
   "metadata": {
    "application/vnd.databricks.v1+cell": {
     "cellMetadata": {
      "byteLimit": 2048000,
      "rowLimit": 10000
     },
     "inputWidgets": {},
     "nuid": "5cc8cb18-013f-408d-9414-8aacb32fb9a7",
     "showTitle": false,
     "tableResultSettingsMap": {},
     "title": ""
    }
   },
   "outputs": [],
   "source": [
    "# Function to generate recommendations for any user\n",
    "from pyspark.sql.functions import col, udf\n",
    "from pyspark.sql.types import DoubleType\n",
    "\n",
    "# UDF for cosine similarity\n",
    "def cosine_similarity(v1, v2):\n",
    "    num = float(v1.dot(v2))\n",
    "    denom = float(v1.norm(2) * v2.norm(2))\n",
    "    return float(num) / denom if denom != 0 else 0.0\n",
    "\n",
    "cosine_udf = udf(cosine_similarity, DoubleType())\n",
    "\n",
    "# Function to recommend top-N for ANY user\n",
    "def recommend_content_based(user_id, liked_ratings_df, tfidf_df, top_n=10):\n",
    "    # Get movies this user liked (rated >=4)\n",
    "    liked_movies = liked_ratings_df.filter(col(\"userId\") == user_id).filter(col(\"rating\") >= 4.0)\n",
    "\n",
    "    # Join to get content features for liked movies\n",
    "    liked_vectors = liked_movies.join(tfidf_df.select(\"movieId\", \"features\"), on=\"movieId\").collect()\n",
    "\n",
    "    # If user has no liked movies, return empty\n",
    "    if len(liked_vectors) == 0:\n",
    "        print(f\"No liked movies for user {user_id}\")\n",
    "        return None\n",
    "\n",
    "    # Initialize empty DataFrame for accumulated scores\n",
    "    recs = None\n",
    "\n",
    "    for row in liked_vectors:\n",
    "        liked_vec = row[\"features\"]\n",
    "\n",
    "        # Define a local UDF that fixes liked_vec as a constant\n",
    "        cosine_udf_fixed = udf(lambda v: cosine_similarity(liked_vec, v), DoubleType())\n",
    "\n",
    "        # Compute similarity to all movies\n",
    "        sims = tfidf_df.withColumn(\"similarity\", cosine_udf_fixed(col(\"features\")))\n",
    "\n",
    "        if recs is None:\n",
    "            recs = sims.select(\"movieId\", \"title\", \"similarity\")\n",
    "        else:\n",
    "            recs = recs.join(\n",
    "                sims.select(\"movieId\", sims[\"similarity\"].alias(\"sim2\")),\n",
    "                on=\"movieId\"\n",
    "            ).withColumn(\"similarity\", col(\"similarity\") + col(\"sim2\")).drop(\"sim2\")\n",
    "\n",
    "    # Filter out already seen movies\n",
    "    seen = liked_movies.select(\"movieId\").distinct()\n",
    "    recs = recs.join(seen, on=\"movieId\", how=\"left_anti\")\n",
    "\n",
    "    # Rank & pick top-N\n",
    "    final_recs = recs.orderBy(col(\"similarity\").desc()).limit(top_n)\n",
    "\n",
    "    return final_recs"
   ]
  },
  {
   "cell_type": "markdown",
   "metadata": {
    "application/vnd.databricks.v1+cell": {
     "cellMetadata": {
      "byteLimit": 2048000,
      "rowLimit": 10000
     },
     "inputWidgets": {},
     "nuid": "9861c4a2-3937-4c47-960c-0d1592cf8897",
     "showTitle": false,
     "tableResultSettingsMap": {},
     "title": ""
    }
   },
   "source": [
    "#### Generate Recommendations for a Specific User\n",
    "\n",
    "This block calls the function for a test user (for example, `userId = 1`) and displays the recommended movies.\n",
    "\n",
    "✅ **Purpose:** Demonstrates how to get personalized content-based recommendations using your new hybrid text features — showing that your scraped tagline data really influences the output!"
   ]
  },
  {
   "cell_type": "code",
   "execution_count": 0,
   "metadata": {
    "application/vnd.databricks.v1+cell": {
     "cellMetadata": {
      "byteLimit": 2048000,
      "rowLimit": 10000
     },
     "inputWidgets": {},
     "nuid": "0f7189cb-ed88-4f25-a04c-553c40f84bd5",
     "showTitle": false,
     "tableResultSettingsMap": {},
     "title": ""
    }
   },
   "outputs": [
    {
     "output_type": "stream",
     "name": "stdout",
     "output_type": "stream",
     "text": [
      "+-------+---------------------------------------------------------+-----------------+\n|movieId|title                                                    |similarity       |\n+-------+---------------------------------------------------------+-----------------+\n|2102   |Steamboat Willie (1940)                                  |6.177162355795796|\n|2092   |Return of Jafar, The (1993)                              |6.099149966229794|\n|1024   |Three Caballeros, The (1945)                             |6.099149966229794|\n|3159   |Fantasia 2000 (1999)                                     |6.099149966229794|\n|48     |Pocahontas (1995)                                        |5.922210294131121|\n|3054   |Pok�mon: The First Movie (1998)                          |5.397456600834284|\n|3287   |Tigger Movie, The (2000)                                 |5.397456600834284|\n|3799   |Pok�mon the Movie 2000 (2000)                            |5.397456600834284|\n|888    |Land Before Time III: The Time of the Great Giving (1995)|5.397456600834284|\n|2096   |Sleeping Beauty (1959)                                   |4.686231523172212|\n+-------+---------------------------------------------------------+-----------------+\n\n"
     ]
    }
   ],
   "source": [
    "# Example: recommend for user 1\n",
    "top_recs = recommend_content_based(\n",
    "    user_id=1,\n",
    "    liked_ratings_df=train_df,\n",
    "    tfidf_df=tfidf_df,\n",
    "    top_n=10\n",
    ")\n",
    "\n",
    "if top_recs:\n",
    "    top_recs.show(10, truncate=False)\n"
   ]
  },
  {
   "cell_type": "markdown",
   "metadata": {
    "application/vnd.databricks.v1+cell": {
     "cellMetadata": {
      "byteLimit": 2048000,
      "rowLimit": 10000
     },
     "inputWidgets": {},
     "nuid": "5ab3299f-ad56-46ee-9c24-491c93db2871",
     "showTitle": false,
     "tableResultSettingsMap": {},
     "title": ""
    }
   },
   "source": [
    "# NEED TO MODIFY THIS PART\n",
    "**Interpretation:**  \n",
    "The output shows that **User 1** likes a wide range of genres — for example:\n",
    "- 17 *Children’s* movies\n",
    "- 21 *Drama* movies\n",
    "- 13 *Animation* movies  \n",
    "This insight can be used to personalize recommendations:  \n",
    "If we know a user prefers *Drama* and *Animation*, we can prioritize unseen movies in these genres.\n",
    "\n",
    "This step is useful for building **content-based recommenders** or for adding **side information** to hybrid models."
   ]
  },
  {
   "cell_type": "markdown",
   "metadata": {
    "application/vnd.databricks.v1+cell": {
     "cellMetadata": {
      "byteLimit": 2048000,
      "rowLimit": 10000
     },
     "inputWidgets": {},
     "nuid": "6673d4d1-cb70-48ba-a9a4-5cc8576b25cd",
     "showTitle": false,
     "tableResultSettingsMap": {},
     "title": ""
    }
   },
   "source": [
    "This code chunk builds a simple **content-based recommender** by using each user’s **top preferred genre(s)**:  \n",
    "- First, for each user, it identifies their **most-watched genre(s)** from the `user_genres` table.\n",
    "- Then, it finds movies that have matching genres.\n",
    "- Finally, it pairs each user with all movies that share their top genres and that they may not have seen yet."
   ]
  },
  {
   "cell_type": "markdown",
   "metadata": {
    "application/vnd.databricks.v1+cell": {
     "cellMetadata": {
      "byteLimit": 2048000,
      "rowLimit": 10000
     },
     "inputWidgets": {},
     "nuid": "40e1aadd-1478-427e-88aa-fef5d0846743",
     "showTitle": false,
     "tableResultSettingsMap": {},
     "title": ""
    }
   },
   "source": [
    "## 10. Collaborative Filtering: ALS Model\n",
    "\n",
    "This code chunk implements a collaborative filtering recommender system using the ALS (Alternating Least Squares) algorithm — a popular matrix factorization technique for large-scale recommendation tasks.\n",
    "\n",
    "**_How it works:_**\n",
    "\n",
    "- Unlike the content-based recommender that uses movie metadata (genres + taglines) to find similar movies, the ALS model relies only on patterns in user–item ratings to learn hidden (latent) factors for users and movies.\n",
    "\n",
    "- It trains the ALS model on the training ratings (train_df), using the columns userId, movieId, and rating.\n",
    "\n",
    "- It uses coldStartStrategy=\"drop\" to filter out any unknown users or items during predictions.\n",
    "\n",
    "- Once trained, the model predicts missing ratings in the test set (test_df) and produces a list of top-10 movie recommendations for each user based purely on learned user–item interactions.\n",
    "\n",
    "**_Why compare?_**\n",
    "\n",
    "- This ALS approach acts as a model-based collaborative filter, which contrasts with your content-based TF-IDF method that uses explicit movie information.\n",
    "\n",
    "- Together, they highlight two different strategies: collaborative filtering depends on shared user behavior, while content-based depends on descriptive information about the movies themselves.\n",
    "\n",
    "**_Outputs:_**\n",
    "\n",
    "- The first output table shows some predicted ratings for the test data — for example, user 1 is predicted to rate movieId 48 around 3.17.\n",
    "\n",
    "- The second output lists the top 10 recommended movies per user, based purely on collaborative patterns."
   ]
  },
  {
   "cell_type": "code",
   "execution_count": 0,
   "metadata": {
    "application/vnd.databricks.v1+cell": {
     "cellMetadata": {
      "byteLimit": 2048000,
      "rowLimit": 10000
     },
     "inputWidgets": {},
     "nuid": "493b24fa-4e45-46e8-bfe4-277e98546f61",
     "showTitle": false,
     "tableResultSettingsMap": {},
     "title": ""
    }
   },
   "outputs": [
    {
     "output_type": "stream",
     "name": "stdout",
     "output_type": "stream",
     "text": [
      "\uD83C\uDFC3 View run angry-shad-158 at: https://adb-1897642321259405.5.azuredatabricks.net/ml/experiments/2935295099286564/runs/5c404494e02845ea94fc7ed69f9b7d4a\n\uD83E\uDDEA View experiment at: https://adb-1897642321259405.5.azuredatabricks.net/ml/experiments/2935295099286564\n+------+-------+------+---------+----------+\n|userId|movieId|rating|timestamp|prediction|\n+------+-------+------+---------+----------+\n|     1|     48|   5.0|978824351| 3.1713462|\n|     2|   1687|   3.0|978300174| 2.9834707|\n|     3|   2081|   4.0|978298504| 3.4476447|\n|     4|   2951|   4.0|978294282| 4.0933833|\n|     5|    288|   2.0|978246585| 2.9687173|\n+------+-------+------+---------+----------+\nonly showing top 5 rows\n+------+--------------------------------------------------------------------------------------------------------------------------------------------------------------------------------------+\n|userId|recommendations                                                                                                                                                                       |\n+------+--------------------------------------------------------------------------------------------------------------------------------------------------------------------------------------+\n|1     |[{572, 5.5191083}, {3233, 4.7438517}, {527, 4.5543013}, {318, 4.542609}, {557, 4.522231}, {953, 4.5186663}, {858, 4.473855}, {1207, 4.472287}, {2129, 4.461449}, {3172, 4.45808}]     |\n|12    |[{572, 4.8078914}, {557, 4.784027}, {858, 4.5482755}, {2309, 4.5027766}, {1221, 4.466063}, {1420, 4.440947}, {3172, 4.432561}, {296, 4.3851476}, {853, 4.370756}, {1213, 4.3675056}]  |\n|22    |[{557, 4.4525666}, {2309, 4.416762}, {3382, 4.164391}, {572, 4.015061}, {787, 3.9471986}, {3338, 3.894059}, {1136, 3.890122}, {1423, 3.8781319}, {2675, 3.8766065}, {771, 3.8700044}] |\n|26    |[{572, 4.6430845}, {3314, 4.106941}, {3233, 4.052931}, {1851, 3.8235955}, {2129, 3.8220556}, {985, 3.8114514}, {3853, 3.8026247}, {598, 3.8020155}, {37, 3.792778}, {1741, 3.7904174}]|\n|27    |[{557, 5.042962}, {2503, 4.936088}, {923, 4.8014174}, {912, 4.775699}, {2019, 4.75366}, {750, 4.7227817}, {2309, 4.7202663}, {3030, 4.7141776}, {1212, 4.7115192}, {3022, 4.702208}]  |\n+------+--------------------------------------------------------------------------------------------------------------------------------------------------------------------------------------+\nonly showing top 5 rows\n"
     ]
    }
   ],
   "source": [
    "from pyspark.ml.recommendation import ALS\n",
    "\n",
    "als = ALS(\n",
    "    userCol=\"userId\",\n",
    "    itemCol=\"movieId\",\n",
    "    ratingCol=\"rating\",\n",
    "    coldStartStrategy=\"drop\",\n",
    "    nonnegative=True,\n",
    "    implicitPrefs=False,\n",
    "    rank=10,\n",
    "    maxIter=10,\n",
    "    regParam=0.1\n",
    ")\n",
    "\n",
    "als_model = als.fit(train_df)\n",
    "\n",
    "# Predict on test set\n",
    "predictions = als_model.transform(test_df)\n",
    "predictions.show(5)\n",
    "\n",
    "# Get top 10 recommendations for all users\n",
    "user_recs = als_model.recommendForAllUsers(10)\n",
    "user_recs.show(5, truncate=False)"
   ]
  },
  {
   "cell_type": "markdown",
   "metadata": {
    "application/vnd.databricks.v1+cell": {
     "cellMetadata": {
      "byteLimit": 2048000,
      "rowLimit": 10000
     },
     "inputWidgets": {},
     "nuid": "927221c1-398c-4c1c-8dcb-6c06ee550370",
     "showTitle": false,
     "tableResultSettingsMap": {},
     "title": ""
    }
   },
   "source": [
    "**Interpretation:**  \n",
    "This approach captures **collaborative signals** (users with similar tastes tend to rate similar movies similarly) instead of explicit metadata (like genres).  \n",
    "It uses latent factors to model user preferences and movie features that are **not directly observable**.\n",
    "\n",
    "✅ *This ALS baseline serves as a robust benchmark against which we can compare other methods, like content-based or LLM-based recommenders.*\n",
    "\n",
    "**Notes:**  \n",
    "- ALS is especially good for sparse, large datasets like MovieLens.\n",
    "- The quality depends on hyperparameters like `rank` (number of latent factors) and `regParam` (regularization strength).\n",
    "- In real-world deployment, you’d tune these using cross-validation for best performance."
   ]
  },
  {
   "cell_type": "markdown",
   "metadata": {
    "application/vnd.databricks.v1+cell": {
     "cellMetadata": {
      "byteLimit": 2048000,
      "rowLimit": 10000
     },
     "inputWidgets": {},
     "nuid": "4a9f665e-5dcc-49d9-87f6-2e923fe59085",
     "showTitle": false,
     "tableResultSettingsMap": {},
     "title": ""
    }
   },
   "source": [
    "## 11. Evaluate ALS Model (RMSE, MAE)\n",
    "In this step, we evaluate the performance of our trained ALS collaborative filtering model on the test set. We use two common regression metrics:\n",
    "\n",
    "- **RMSE (Root Mean Squared Error)** — measures the average magnitude of prediction errors.     \n",
    "- **MAE (Mean Absolute Error)** — measures the average absolute difference between the predicted and true ratings.\n",
    "Lower values indicate better performance."
   ]
  },
  {
   "cell_type": "code",
   "execution_count": 0,
   "metadata": {
    "application/vnd.databricks.v1+cell": {
     "cellMetadata": {
      "byteLimit": 2048000,
      "rowLimit": 10000
     },
     "inputWidgets": {},
     "nuid": "5ee396c1-92a4-4a0b-9006-c262f6013363",
     "showTitle": false,
     "tableResultSettingsMap": {},
     "title": ""
    }
   },
   "outputs": [
    {
     "output_type": "stream",
     "name": "stdout",
     "output_type": "stream",
     "text": [
      "ALS RMSE: 0.9391\nALS MAE: 0.7553\n"
     ]
    }
   ],
   "source": [
    "from pyspark.ml.evaluation import RegressionEvaluator\n",
    "\n",
    "rmse_evaluator = RegressionEvaluator(metricName=\"rmse\", labelCol=\"rating\", predictionCol=\"prediction\")\n",
    "mae_evaluator = RegressionEvaluator(metricName=\"mae\", labelCol=\"rating\", predictionCol=\"prediction\")\n",
    "\n",
    "rmse = rmse_evaluator.evaluate(predictions)\n",
    "mae = mae_evaluator.evaluate(predictions)\n",
    "\n",
    "print(f\"ALS RMSE: {rmse:.4f}\")\n",
    "print(f\"ALS MAE: {mae:.4f}\")"
   ]
  },
  {
   "cell_type": "markdown",
   "metadata": {
    "application/vnd.databricks.v1+cell": {
     "cellMetadata": {
      "byteLimit": 2048000,
      "rowLimit": 10000
     },
     "inputWidgets": {},
     "nuid": "06763ed5-2730-4b58-b0ba-21371db0929a",
     "showTitle": false,
     "tableResultSettingsMap": {},
     "title": ""
    }
   },
   "source": [
    "**Interpretation:**\n",
    "\n",
    "- The **ALS model** achieves an **RMSE of 0.9391** and an **MAE of 0.7553** on the held-out test set.\n",
    "- This suggests that, on average, our predicted ratings are about **0.76 stars away** from the true ratings (MAE) and that larger errors are somewhat rare (RMSE).\n",
    "- These results show that our collaborative filtering model is reasonably accurate and can capture useful patterns in user preferences."
   ]
  },
  {
   "cell_type": "markdown",
   "metadata": {
    "application/vnd.databricks.v1+cell": {
     "cellMetadata": {
      "byteLimit": 2048000,
      "rowLimit": 10000
     },
     "inputWidgets": {},
     "nuid": "b659de78-2c2e-4a59-a997-259b5f8374d3",
     "showTitle": false,
     "tableResultSettingsMap": {},
     "title": ""
    }
   },
   "source": [
    "## 12. Top-N Recommendation Evaluation (Precision@K, Recall@K)\n",
    "In this final evaluation step, we measure how well the ALS collaborative filtering model does at producing **top-N recommendations** for each user.\n",
    "\n",
    "**Precision@10** tells us, on average, how many of the top 10 recommended movies are actually in the user’s true test set.\n",
    "**Recall@10** measures, on average, how much of a user’s true relevant movies are covered by the top 10 recommendations.\n",
    "The helper functions `precision_at_k` and `recall_at_k` compute these metrics for all users."
   ]
  },
  {
   "cell_type": "code",
   "execution_count": 0,
   "metadata": {
    "application/vnd.databricks.v1+cell": {
     "cellMetadata": {
      "byteLimit": 2048000,
      "rowLimit": 10000
     },
     "inputWidgets": {},
     "nuid": "44a904d9-b0a2-44bb-929a-09c14b772fdc",
     "showTitle": false,
     "tableResultSettingsMap": {},
     "title": ""
    }
   },
   "outputs": [
    {
     "output_type": "stream",
     "name": "stdout",
     "output_type": "stream",
     "text": [
      "ALS Precision@10: 0.0007\nALS Recall@10: 0.0071\n"
     ]
    }
   ],
   "source": [
    "# Collect test and prediction data to Pandas for evaluation\n",
    "import pandas as pd\n",
    "\n",
    "# Get top 10 ALS recommendations per user\n",
    "user_recs = als_model.recommendForAllUsers(10)\n",
    "user_recs_pd = user_recs.select(\"userId\", \"recommendations\").toPandas()\n",
    "\n",
    "# Explode recommendations for easier evaluation\n",
    "user_recs_expanded = []\n",
    "for idx, row in user_recs_pd.iterrows():\n",
    "    user = row[\"userId\"]\n",
    "    recs = row[\"recommendations\"]\n",
    "    for rec in recs:\n",
    "        user_recs_expanded.append((user, rec['movieId'], rec['rating']))\n",
    "recs_df = pd.DataFrame(user_recs_expanded, columns=[\"userId\", \"movieId\", \"pred_rating\"])\n",
    "\n",
    "# Prepare test set in pandas\n",
    "test_pd = test_df.select(\"userId\", \"movieId\", \"rating\").toPandas()\n",
    "\n",
    "# Precision@K and Recall@K helper functions\n",
    "def precision_at_k(recs, test, k=10):\n",
    "    precisions = []\n",
    "    for user in recs['userId'].unique():\n",
    "        rec_movies = recs[recs['userId'] == user].sort_values('pred_rating', ascending=False).head(k)['movieId'].tolist()\n",
    "        true_movies = test[test['userId'] == user]['movieId'].tolist()\n",
    "        if len(true_movies) == 0:\n",
    "            continue\n",
    "        prec = len(set(rec_movies).intersection(set(true_movies))) / k\n",
    "        precisions.append(prec)\n",
    "    return sum(precisions) / len(precisions)\n",
    "\n",
    "def recall_at_k(recs, test, k=10):\n",
    "    recalls = []\n",
    "    for user in recs['userId'].unique():\n",
    "        rec_movies = recs[recs['userId'] == user].sort_values('pred_rating', ascending=False).head(k)['movieId'].tolist()\n",
    "        true_movies = test[test['userId'] == user]['movieId'].tolist()\n",
    "        if len(true_movies) == 0:\n",
    "            continue\n",
    "        rec_count = len(set(rec_movies).intersection(set(true_movies)))\n",
    "        recall = rec_count / len(true_movies)\n",
    "        recalls.append(recall)\n",
    "    return sum(recalls) / len(recalls)\n",
    "\n",
    "precision = precision_at_k(recs_df, test_pd, k=10)\n",
    "recall = recall_at_k(recs_df, test_pd, k=10)\n",
    "\n",
    "print(f\"ALS Precision@10: {precision:.4f}\")\n",
    "print(f\"ALS Recall@10: {recall:.4f}\")"
   ]
  },
  {
   "cell_type": "markdown",
   "metadata": {
    "application/vnd.databricks.v1+cell": {
     "cellMetadata": {
      "byteLimit": 2048000,
      "rowLimit": 10000
     },
     "inputWidgets": {},
     "nuid": "f810ad96-fb8b-4bb5-a050-22de4b395168",
     "showTitle": false,
     "tableResultSettingsMap": {},
     "title": ""
    }
   },
   "source": [
    "**Interpretation:**\n",
    "\n",
    "- The ALS model achieves a **Precision@10 of 0.0007** and a **Recall@10 of 0.0071**.\n",
    "\n",
    "- This means that only a tiny fraction of the top 10 recommendations actually match the user’s test items.\n",
    "\n",
    "- Such low scores are typical when the test set contains only **one held-out item per user** (as in our split) — it’s very difficult for the model to rank this single hidden movie in the very top 10, especially when the catalog is large (thousands of movies).\n",
    "\n",
    "- In real systems, these metrics often improve when there is more feedback per user, better personalization, or hybrid features."
   ]
  },
  {
   "cell_type": "markdown",
   "metadata": {
    "application/vnd.databricks.v1+cell": {
     "cellMetadata": {
      "byteLimit": 2048000,
      "rowLimit": 10000
     },
     "inputWidgets": {},
     "nuid": "f5e3b9a8-bc5b-4aa3-95cf-c53ae8d72c0b",
     "showTitle": false,
     "tableResultSettingsMap": {},
     "title": ""
    }
   },
   "source": [
    "### Item-based k-Nearest Neighbors (kNN):\n",
    "In this approach, the ratings data is transformed into an item–user matrix, then cosine similarity is computed between pairs of movies to identify how similar they are based on how users have rated them.\n",
    "Each user then gets recommendations by finding movies most similar to the ones they already liked, according to this similarity measure.\n",
    "\n",
    "**_How it compares:_**\n",
    "\n",
    "- Unlike ALS, which learns hidden latent factors, item-based kNN directly relies on observable rating patterns between items.\n",
    "\n",
    "- Unlike your content-based TF-IDF model, this does not use any movie metadata (genres, taglines) — only collaborative signals.\n",
    "This makes it a classic memory-based collaborative filtering method.\n",
    "\n",
    "**_When to use it:_**\n",
    "\n",
    "- Item-based kNN works well for small to medium-sized item catalogs.\n",
    "\n",
    "- It can be computationally expensive for very large item sets, because it needs to compute and store similarity scores for every pair of items.\n",
    "\n",
    "_**Example:**_ The output shows the top-10 recommended movies for a sample user, generated by looking at which movies are most similar to those the user rated highly."
   ]
  },
  {
   "cell_type": "code",
   "execution_count": 0,
   "metadata": {
    "application/vnd.databricks.v1+cell": {
     "cellMetadata": {
      "byteLimit": 2048000,
      "rowLimit": 10000
     },
     "inputWidgets": {},
     "nuid": "ad37b72f-3a97-4348-a238-d979b33c5b6a",
     "showTitle": false,
     "tableResultSettingsMap": {},
     "title": ""
    }
   },
   "outputs": [
    {
     "output_type": "stream",
     "name": "stdout",
     "output_type": "stream",
     "text": [
      "Item-based kNN recommendations for user 1: [2565, 2571, 2059, 2573, 2078, 2080, 2081, 34, 2087, 2599]\n"
     ]
    }
   ],
   "source": [
    "# Item-based kNN Collaborative Filtering (Cosine Similarity)\n",
    "# Pivot ratings to item-user matrix\n",
    "item_user_matrix = train_df.groupBy(\"movieId\").pivot(\"userId\").agg({\"rating\": \"first\"}).fillna(0)\n",
    "\n",
    "# Convert to Pandas for cosine similarity (small sample for demo)\n",
    "item_user_pd = item_user_matrix.toPandas().set_index(\"movieId\")\n",
    "from sklearn.metrics.pairwise import cosine_similarity\n",
    "import numpy as np\n",
    "\n",
    "cos_sim = cosine_similarity(item_user_pd)\n",
    "cos_sim_df = pd.DataFrame(cos_sim, index=item_user_pd.index, columns=item_user_pd.index)\n",
    "\n",
    "# For a given item, find top-k similar items\n",
    "def get_topk_similar_items(item_id, k=5):\n",
    "    sims = cos_sim_df.loc[item_id].drop(item_id)\n",
    "    return sims.nlargest(k).index.tolist()\n",
    "\n",
    "# Recommend top-N items for a user based on items they've rated highly\n",
    "def item_knn_recommend(user_id, k=5, N=10):\n",
    "    user_rated = train_df.filter((col(\"userId\") == user_id) & (col(\"rating\") >= 4)).select(\"movieId\").toPandas()[\"movieId\"].tolist()\n",
    "    candidate_items = set()\n",
    "    for item in user_rated:\n",
    "        candidate_items.update(get_topk_similar_items(item, k))\n",
    "    # Remove already seen\n",
    "    candidate_items = candidate_items - set(user_rated)\n",
    "    return list(candidate_items)[:N]\n",
    "\n",
    "# Example: Recommend for user 1\n",
    "print(\"Item-based kNN recommendations for user 1:\", item_knn_recommend(1, k=5, N=10))"
   ]
  },
  {
   "cell_type": "markdown",
   "metadata": {
    "application/vnd.databricks.v1+cell": {
     "cellMetadata": {
      "byteLimit": 2048000,
      "rowLimit": 10000
     },
     "inputWidgets": {},
     "nuid": "f44fa88a-fe80-4ded-9a41-7cf297320060",
     "showTitle": false,
     "tableResultSettingsMap": {},
     "title": ""
    }
   },
   "source": [
    "**Interpretations:**\n",
    "\n",
    "The output [2565, 2571, 2059, ...] lists the IDs of the top 10 movies recommended for user 1 based on item-based cosine similarity. Each movie in the list is similar to one or more movies that the user has already rated highly, making them strong candidates for personalized suggestions. To make these results more interpretable, we can easily map the numeric IDs back to their actual movie titles by joining the IDs with the movies_df DataFrame — this way, the final recommendations are clear and meaningful to the end user."
   ]
  },
  {
   "cell_type": "code",
   "execution_count": 0,
   "metadata": {
    "application/vnd.databricks.v1+cell": {
     "cellMetadata": {
      "byteLimit": 2048000,
      "rowLimit": 10000
     },
     "inputWidgets": {},
     "nuid": "563d6fe6-6bf1-48e0-b2cc-945fc123ca57",
     "showTitle": false,
     "tableResultSettingsMap": {},
     "title": ""
    }
   },
   "outputs": [
    {
     "output_type": "stream",
     "name": "stdout",
     "output_type": "stream",
     "text": [
      "+-------+--------------------------+\n|movieId|title                     |\n+-------+--------------------------+\n|2565   |King and I, The (1956)    |\n|2571   |Matrix, The (1999)        |\n|2059   |Parent Trap, The (1998)   |\n|2573   |Tango (1998)              |\n|2078   |Jungle Book, The (1967)   |\n|2080   |Lady and the Tramp (1955) |\n|2081   |Little Mermaid, The (1989)|\n|34     |Babe (1995)               |\n|2087   |Peter Pan (1953)          |\n|2599   |Election (1999)           |\n+-------+--------------------------+\n\n"
     ]
    }
   ],
   "source": [
    "# Example recommended IDs\n",
    "recommended_ids = [2565, 2571, 2059, 2573, 2078, 2080, 2081, 34, 2087, 2599]\n",
    "\n",
    "# Convert to Spark DataFrame for easy join\n",
    "from pyspark.sql import Row\n",
    "\n",
    "recommended_df = spark.createDataFrame([Row(movieId=int(mid)) for mid in recommended_ids])\n",
    "\n",
    "# Join with movies_df to get titles\n",
    "mapped_recs = recommended_df.join(movies_df, on=\"movieId\", how=\"left\").select(\"movieId\", \"title\")\n",
    "\n",
    "mapped_recs.show(truncate=False)"
   ]
  },
  {
   "cell_type": "markdown",
   "metadata": {
    "application/vnd.databricks.v1+cell": {
     "cellMetadata": {
      "byteLimit": 2048000,
      "rowLimit": 10000
     },
     "inputWidgets": {},
     "nuid": "1080d5cc-eda1-4497-8ef8-5e164bbdb7b4",
     "showTitle": false,
     "tableResultSettingsMap": {},
     "title": ""
    }
   },
   "source": [
    "### Item-based k-Nearest Neighbors (kNN):\n",
    "\n",
    "As a continuation of the memory-based collaborative filtering family, this section implements user-based k-nearest neighbors (kNN).\n",
    "\n",
    "Instead of comparing movies, this method compares users to find others with similar rating patterns.\n",
    "\n",
    "**_How it works:_**\n",
    "\n",
    "- The ratings data is pivoted into a user–item matrix, then cosine similarity is computed between pairs of users.\n",
    "\n",
    "- For each user, the algorithm identifies their most similar neighbors (users who rated items similarly).\n",
    "\n",
    "- New recommendations are generated by looking at the highly rated movies from these similar neighbors that the target user hasn’t seen yet.\n",
    "\n",
    "**_How it compares:_**\n",
    "\n",
    "- This approach is a purely collaborative strategy like item-based kNN and ALS — it does not use any movie content (genres, taglines).\n",
    "\n",
    "- Unlike item-based kNN, which finds similarities between items, user-based kNN finds similarities between users.\n",
    "\n",
    "- Compared to the content-based TF-IDF and LLM prototype, it relies entirely on the structure of the user–item ratings.\n",
    "\n",
    "**_When to use it:_**\n",
    "\n",
    "- User-based kNN can work well when there is significant overlap in user ratings.\n",
    "\n",
    "- Like item-based kNN, it can be computationally expensive for large user sets.\n",
    "\n",
    "**_Example:_** The output shows movies recommended for a user, based on what their most similar users liked but they haven’t rated yet."
   ]
  },
  {
   "cell_type": "code",
   "execution_count": 0,
   "metadata": {
    "application/vnd.databricks.v1+cell": {
     "cellMetadata": {
      "byteLimit": 2048000,
      "rowLimit": 10000
     },
     "inputWidgets": {},
     "nuid": "a0f7ace7-f780-4591-b025-21282c341790",
     "showTitle": false,
     "tableResultSettingsMap": {},
     "title": ""
    }
   },
   "outputs": [
    {
     "output_type": "stream",
     "name": "stdout",
     "output_type": "stream",
     "text": [
      "User-based kNN recommendations for user 1: [1584, 539, 1183, 1198, 1210, 920, 3298, 912, 3753, 1221]\n"
     ]
    }
   ],
   "source": [
    "# User-based kNN Collaborative Filtering\n",
    "# Pivot ratings to user-item matrix\n",
    "user_item_matrix = train_df.groupBy(\"userId\").pivot(\"movieId\").agg({\"rating\": \"first\"}).fillna(0)\n",
    "user_item_pd = user_item_matrix.toPandas().set_index(\"userId\")\n",
    "\n",
    "cos_sim_users = cosine_similarity(user_item_pd)\n",
    "cos_sim_users_df = pd.DataFrame(cos_sim_users, index=user_item_pd.index, columns=user_item_pd.index)\n",
    "\n",
    "def get_topk_similar_users(user_id, k=5):\n",
    "    sims = cos_sim_users_df.loc[user_id].drop(user_id)\n",
    "    return sims.nlargest(k).index.tolist()\n",
    "\n",
    "def user_knn_recommend(user_id, k=5, N=10):\n",
    "    neighbors = get_topk_similar_users(user_id, k)\n",
    "    neighbor_ratings = train_df.filter(col(\"userId\").isin(neighbors)).toPandas()\n",
    "    # Recommend items neighbors rated highly that user hasn't seen\n",
    "    user_seen = train_df.filter(col(\"userId\") == user_id).toPandas()[\"movieId\"].tolist()\n",
    "    rec_candidates = neighbor_ratings[~neighbor_ratings[\"movieId\"].isin(user_seen)]\n",
    "    top_items = rec_candidates.groupby(\"movieId\")[\"rating\"].mean().sort_values(ascending=False).head(N).index.tolist()\n",
    "    return top_items\n",
    "\n",
    "print(\"User-based kNN recommendations for user 1:\", user_knn_recommend(1, k=5, N=10))"
   ]
  },
  {
   "cell_type": "markdown",
   "metadata": {
    "application/vnd.databricks.v1+cell": {
     "cellMetadata": {
      "byteLimit": 2048000,
      "rowLimit": 10000
     },
     "inputWidgets": {},
     "nuid": "68a3fb24-0be5-4db5-9b7e-4cb468791a83",
     "showTitle": false,
     "tableResultSettingsMap": {},
     "title": ""
    }
   },
   "source": [
    "The ouput above lists the IDs of the top 10 suggested movies based on similar users’ preferences. By mapping these IDs back to movie titles using `movies_df`, we can present clear, interpretable recommendations. This user-based kNN model complements the item-based version by focusing on **user-user** similarity instead of **item-item** similarity, providing an alternative perspective within collaborative filtering."
   ]
  },
  {
   "cell_type": "code",
   "execution_count": 0,
   "metadata": {
    "application/vnd.databricks.v1+cell": {
     "cellMetadata": {
      "byteLimit": 2048000,
      "rowLimit": 10000
     },
     "inputWidgets": {},
     "nuid": "1524177b-1f5a-468e-869e-aeb4a6d23cf8",
     "showTitle": false,
     "tableResultSettingsMap": {},
     "title": ""
    }
   },
   "outputs": [
    {
     "output_type": "stream",
     "name": "stdout",
     "output_type": "stream",
     "text": [
      "   movieId                                              title\n0      539                        Sleepless in Seattle (1993)\n1      912                                  Casablanca (1942)\n2      920                          Gone with the Wind (1939)\n3     1183                        English Patient, The (1996)\n4     1198                     Raiders of the Lost Ark (1981)\n5     1210  Star Wars: Episode VI - Return of the Jedi (1983)\n6     1221                     Godfather: Part II, The (1974)\n7     1584                                     Contact (1997)\n8     3298                                 Boiler Room (2000)\n9     3753                                Patriot, The (2000)\n"
     ]
    },
    {
     "output_type": "display_data",
     "data": {
      "application/vnd.databricks.v1+display_df_hint": {
       "mode": "should_hint",
       "name": "mapped",
       "type": "pandas.core.frame.DataFrame"
      }
     },
     "metadata": {},
     "output_type": "display_data"
    }
   ],
   "source": [
    "# Example: Map user-based kNN recommendations to titles for user 1\n",
    "user1_recs = user_knn_recommend(1, k=5, N=10)\n",
    "mapped = movies_df.filter(col(\"movieId\").isin(user1_recs)).select(\"movieId\", \"title\").toPandas()\n",
    "print(mapped)"
   ]
  },
  {
   "cell_type": "markdown",
   "metadata": {
    "application/vnd.databricks.v1+cell": {
     "cellMetadata": {
      "byteLimit": 2048000,
      "rowLimit": 10000
     },
     "inputWidgets": {},
     "nuid": "4413a258-6a5d-49ca-ac09-c23926fa96bc",
     "showTitle": false,
     "tableResultSettingsMap": {},
     "title": ""
    }
   },
   "source": [
    "### Mean Average Precision Evaluation:\n",
    "\n",
    "In the previous section, we described how we constructed an item-user matrix and used cosine similarity to generate movie recommendations by identifying movies similar to those a user liked. This approach directly leverages explicit similarity between movies rather than learning latent factors, aiming to recommend relevant content based on user preferences. The MAP@10 metric evaluated here provides a quantitative measure of how well these recommendations match actual user preferences in the test set. The very low MAP@10 score of 0.0012 (below) suggests that while the cosine similarity method can find related movies, it may not effectively capture the nuanced preferences of users across the dataset, leading to few relevant items appearing in the top 10 recommendations. This highlights the limitations of memory-based collaborative filtering and signals that incorporating more advanced techniques, such as latent factor models or hybrid approaches, may be necessary to improve recommendation quality and user satisfaction."
   ]
  },
  {
   "cell_type": "code",
   "execution_count": 0,
   "metadata": {
    "application/vnd.databricks.v1+cell": {
     "cellMetadata": {
      "byteLimit": 2048000,
      "rowLimit": 10000
     },
     "inputWidgets": {},
     "nuid": "50aa54ac-2da1-403d-a8ee-740bcac70192",
     "showTitle": false,
     "tableResultSettingsMap": {},
     "title": ""
    }
   },
   "outputs": [
    {
     "output_type": "stream",
     "name": "stdout",
     "output_type": "stream",
     "text": [
      "MAP@10: 0.0012\n"
     ]
    }
   ],
   "source": [
    "# MAP (Mean Average Precision) Evaluation\n",
    "def map_at_k(recs_df, test_df, k=10, score_col='score'):\n",
    "    aps = []\n",
    "    for user in recs_df['userId'].unique():\n",
    "        rec_movies = (\n",
    "            recs_df[recs_df['userId'] == user]\n",
    "            .sort_values(score_col, ascending=False)\n",
    "            .head(k)['movieId']\n",
    "            .tolist()\n",
    "        )\n",
    "        true_movies = test_df[test_df['userId'] == user]['movieId'].tolist()\n",
    "        if not true_movies:\n",
    "            continue\n",
    "        hits = 0\n",
    "        sum_precisions = 0\n",
    "        for i, rec in enumerate(rec_movies):\n",
    "            if rec in true_movies:\n",
    "                hits += 1\n",
    "                sum_precisions += hits / (i + 1)\n",
    "        ap = sum_precisions / min(len(true_movies), k) if true_movies else 0\n",
    "        aps.append(ap)\n",
    "    return np.mean(aps) if aps else 0\n",
    "map_score = map_at_k(recs_df, test_pd, k=10, score_col='pred_rating')\n",
    "print(f\"MAP@10: {map_score:.4f}\")"
   ]
  },
  {
   "cell_type": "markdown",
   "metadata": {
    "application/vnd.databricks.v1+cell": {
     "cellMetadata": {
      "byteLimit": 2048000,
      "rowLimit": 10000
     },
     "inputWidgets": {},
     "nuid": "e0d119fd-d9bc-4c39-92d9-a91285dd0dc0",
     "showTitle": false,
     "tableResultSettingsMap": {},
     "title": ""
    }
   },
   "source": [
    "#### Diversity@10:\n",
    "The `diversity` function calculates how diverse the top-k recommended movies are for each user in terms of genres. First, the code converts the `genres` column in the `movies_df` Spark DataFrame into a clean format using Pandas, ensuring each movie’s genres are stored as simple Python lists. For each user, the function selects their top-k recommended movies, retrieves their genres, and forms genre sets. It then computes all possible pairs of these sets and checks how many pairs have no overlapping genres (i.e., are disjoint). The diversity score for each user is the proportion of disjoint pairs, and the final `Diversity@10` score is the mean of these user-level scores. A higher value means the recommended movies span more varied genres, indicating a broader and less repetitive recommendation list."
   ]
  },
  {
   "cell_type": "code",
   "execution_count": 0,
   "metadata": {
    "application/vnd.databricks.v1+cell": {
     "cellMetadata": {
      "byteLimit": 2048000,
      "rowLimit": 10000
     },
     "inputWidgets": {},
     "nuid": "6f3e28d5-fe8b-4e49-a9a1-28c59b0452bf",
     "showTitle": false,
     "tableResultSettingsMap": {},
     "title": ""
    }
   },
   "outputs": [
    {
     "output_type": "stream",
     "name": "stdout",
     "output_type": "stream",
     "text": [
      "[{\"name\": \"cos_sim_df\", \"variableType\": \"DataFrame\", \"value\": \"    833      1580     2122     463      1645     1088     471      2366     3175     148      3918     1342     1591     1238     1959     2866     2142     3794     2659     3749     496      1829     1721     858      3698     1127     1084     540      2387     1522     1395     1483     2580     3179     1025     737      392      3475     1990     1896     1507     243      1460     2999     897      2811     623      1270     1303     2393     2572     3000     1339     3704     1352     3... (truncated)\", \"schema\": \"[833, 1580, 2122, 463, 1645, 1088, 471, 2366, 3175, 148, 3918, 1342, 1591, 1238, 1959, 2866, 2142, 3794, 2659, 3749, 496, 1829, 1721, 858, 3698, 1127, 1084, 540, 2387, 1522, 1395, 1483, 2580, 3179, 1025, 737, 392, 3475, 1990, 1896, 1507, 243, 1460, 2999, 897, 2811, 623, 1270, 1303, 2393, 2572, 3000, 1339, 3704, 1352, 3213, 31, 1699, 516, 2996, 1650, 3761, 2711, 1322, 3352, 1903, 2776, 3488, 2821, 1884, 1265, 3098, 2259, 580, 2721, 2025, 85, 808, 2748, 2525, 2443, 137, 451, 1975, 2231, 3089, 2488... (truncated)\", \"shape\": \"(3703, 3703)\"}, {\"name\": \"cos_sim_users_df\", \"variableType\": \"DataFrame\", \"value\": \"    1        12       22       26       27       28       31       34       44       47       52       53       65       76       78       81       85       91       93       101      103      108      111      115      122      126      128      132      133      137      140      146      148      152      155      157      159      177      183      185      190      192      193      206      209      210      211      212      222      223      224      225      230      232      233      2... (truncated)\", \"schema\": \"[1, 12, 22, 26, 27, 28, 31, 34, 44, 47, 52, 53, 65, 76, 78, 81, 85, 91, 93, 101, 103, 108, 111, 115, 122, 126, 128, 132, 133, 137, 140, 146, 148, 152, 155, 157, 159, 177, 183, 185, 190, 192, 193, 206, 209, 210, 211, 212, 222, 223, 224, 225, 230, 232, 233, 236, 243, 246, 251, 253, 255, 259, 271, 274, 285, 291, 296, 297, 300, 305, 319, 321, 322, 325, 329, 330, 332, 333, 336, 346, 350, 353, 355, 360, 362, 363, 367, 368, 372, 375, 384, 385, 386, 388, 392, 406, 409, 412, 416, 417, 435, 436, 444, 451,... (truncated)\", \"shape\": \"(6040, 6040)\"}, {\"name\": \"featurized_data\", \"variableType\": \"DataFrame\", \"value\": \"DataFrame[movieId: int, title: string, genres: array<string>, tagline: string, poster_path: string, content: string, content_words: array<string>, rawFeatures: vector]\", \"schema\": \"['movieId', 'title', 'genres', 'tagline', 'poster_path', 'content', 'content_words', 'rawFeatures']\", \"shape\": \"(?, 8)\"}, {\"name\": \"item_avg\", \"variableType\": \"DataFrame\", \"value\": \"DataFrame[movieId: int, item_avg: double]\", \"schema\": \"['movieId', 'item_avg']\", \"shape\": \"(?, 2)\"}, {\"name\": \"item_user_matrix\", \"variableType\": \"DataFrame\", \"value\": \"DataFrame[movieId: int, 1: float, 2: float, 3: float, 4: float, 5: float, 6: float, 7: float, 8: float, 9: float, 10: float, 11: float, 12: float, 13: float, 14: float, 15: float, 16: float, 17: float, 18: float, 19: float, 20: float, 21: float, 22: float, 23: float, 24: float, 25: float, 26: float, 27: float, 28: float, 29: float, 30: float, 31: float, 32: float, 33: float, 34: float, 35: float, 36: float, 37: float, 38: float, 39: float, 40: float, 41: float, 42: float, 43: float, 44: float, 4... (truncated)\", \"schema\": \"['movieId', '1', '2', '3', '4', '5', '6', '7', '8', '9', '10', '11', '12', '13', '14', '15', '16', '17', '18', '19', '20', '21', '22', '23', '24', '25', '26', '27', '28', '29', '30', '31', '32', '33', '34', '35', '36', '37', '38', '39', '40', '41', '42', '43', '44', '45', '46', '47', '48', '49', '50', '51', '52', '53', '54', '55', '56', '57', '58', '59', '60', '61', '62', '63', '64', '65', '66', '67', '68', '69', '70', '71', '72', '73', '74', '75', '76', '77', '78', '79', '80', '81', '82', '83',... (truncated)\", \"shape\": \"(?, 6041)\"}, {\"name\": \"item_user_pd\", \"variableType\": \"DataFrame\", \"value\": \"  1   2   3   4   5   6   7   8   9  10  11  12  13  14  15  16  17  18  19  20  21  22  23  24  25  26  27  28  29  30  31  32  33  34  35  36  37  38  39  40  41  42  43  44  45  46  47  48  49  50  51  52  53  54  55  56  57  58  59  60  61  62  63  64  65  66  67  68  69  70  71  72  73  74  75  76  77  78  79  80  81  82  83  84  85  86  87  88  89  90  91  92  93  94  95  96  97  98  99  100  101  102  103  104  105  106  107  108  109  110  111  112  113  114  115  116  117  118  119  120... (truncated)\", \"schema\": \"['1', '2', '3', '4', '5', '6', '7', '8', '9', '10', '11', '12', '13', '14', '15', '16', '17', '18', '19', '20', '21', '22', '23', '24', '25', '26', '27', '28', '29', '30', '31', '32', '33', '34', '35', '36', '37', '38', '39', '40', '41', '42', '43', '44', '45', '46', '47', '48', '49', '50', '51', '52', '53', '54', '55', '56', '57', '58', '59', '60', '61', '62', '63', '64', '65', '66', '67', '68', '69', '70', '71', '72', '73', '74', '75', '76', '77', '78', '79', '80', '81', '82', '83', '84', '85'... (truncated)\", \"shape\": \"(3703, 6040)\"}, {\"name\": \"mapped\", \"variableType\": \"DataFrame\", \"value\": \" movieId                          title\\n     539    Sleepless in Seattle (1993)\\n     912              Casablanca (1942)\\n     920      Gone with the Wind (1939)\\n    1183    English Patient, The (1996)\\n    1198 Raiders of the Lost Ark (1981)\", \"schema\": \"['movieId', 'title']\", \"shape\": \"(10, 2)\"}, {\"name\": \"mapped_recs\", \"variableType\": \"DataFrame\", \"value\": \"DataFrame[movieId: bigint, title: string]\", \"schema\": \"['movieId', 'title']\", \"shape\": \"(?, 2)\"}, {\"name\": \"movie_pop\", \"variableType\": \"DataFrame\", \"value\": \"DataFrame[movieId: int, popularity: bigint]\", \"schema\": \"['movieId', 'popularity']\", \"shape\": \"(?, 2)\"}, {\"name\": \"movie_popularity\", \"variableType\": \"DataFrame\", \"value\": \"DataFrame[movieId: int, num_ratings: bigint, title: string, genres: array<string>]\", \"schema\": \"['movieId', 'num_ratings', 'title', 'genres']\", \"shape\": \"(?, 4)\"}, {\"name\": \"movies\", \"variableType\": \"DataFrame\", \"value\": \" movieId                              title                       genres   year  tmdb_id                                                                        tagline                      poster_path\\n       1                   Toy Story (1995)  Animation|Children's|Comedy 1995.0    862.0                                The adventure takes off when toys come to life! /uXDfjJbdP4ijW5hWSBrPrlKpxab.jpg\\n       2                     Jumanji (1995) Adventure|Children's|Fantasy 1995.0   8844.0          ... (truncated)\", \"schema\": \"['movieId', 'title', 'genres', 'year', 'tmdb_id', 'tagline', 'poster_path']\", \"shape\": \"(3883, 7)\"}, {\"name\": \"movies_df\", \"variableType\": \"DataFrame\", \"value\": \"DataFrame[movieId: int, title: string, genres: array<string>]\", \"schema\": \"['movieId', 'title', 'genres']\", \"shape\": \"(?, 3)\"}, {\"name\": \"movies_enriched_df\", \"variableType\": \"DataFrame\", \"value\": \"DataFrame[movieId: int, title: string, genres: array<string>, tagline: string, poster_path: string, content: string]\", \"schema\": \"['movieId', 'title', 'genres', 'tagline', 'poster_path', 'content']\", \"shape\": \"(?, 6)\"}, {\"name\": \"movies_pd\", \"variableType\": \"DataFrame\", \"value\": \" movieId  genres\\n       1     NaN\\n       2     NaN\\n       3     NaN\\n       4     NaN\\n       5     NaN\", \"schema\": \"['movieId', 'genres']\", \"shape\": \"(3883, 2)\"}, {\"name\": \"pop_recs\", \"variableType\": \"DataFrame\", \"value\": \"DataFrame[userId: int, movieId: int]\", \"schema\": \"['userId', 'movieId']\", \"shape\": \"(?, 2)\"}, {\"name\": \"predictions\", \"variableType\": \"DataFrame\", \"value\": \"DataFrame[userId: int, movieId: int, rating: float, timestamp: bigint, prediction: float]\", \"schema\": \"['userId', 'movieId', 'rating', 'timestamp', 'prediction']\", \"shape\": \"(?, 5)\"}, {\"name\": \"ratings_df\", \"variableType\": \"DataFrame\", \"value\": \"DataFrame[userId: int, movieId: int, rating: float, timestamp: bigint, row_num: int]\", \"schema\": \"['userId', 'movieId', 'rating', 'timestamp', 'row_num']\", \"shape\": \"(?, 5)\"}, {\"name\": \"recommended_df\", \"variableType\": \"DataFrame\", \"value\": \"DataFrame[movieId: bigint]\", \"schema\": \"['movieId']\", \"shape\": \"(?, 1)\"}, {\"name\": \"recs_df\", \"variableType\": \"DataFrame\", \"value\": \" userId  movieId  pred_rating\\n      1      572     5.519108\\n      1     3233     4.743852\\n      1      527     4.554301\\n      1      318     4.542609\\n      1      557     4.522231\", \"schema\": \"['userId', 'movieId', 'pred_rating']\", \"shape\": \"(60400, 3)\"}, {\"name\": \"taglines_df\", \"variableType\": \"DataFrame\", \"value\": \"DataFrame[movieId: int, title: string, genres: string, year: double, tmdb_id: double, tagline: string, poster_path: string]\", \"schema\": \"['movieId', 'title', 'genres', 'year', 'tmdb_id', 'tagline', 'poster_path']\", \"shape\": \"(?, 7)\"}, {\"name\": \"test_df\", \"variableType\": \"DataFrame\", \"value\": \"DataFrame[userId: int, movieId: int, rating: float, timestamp: bigint]\", \"schema\": \"['userId', 'movieId', 'rating', 'timestamp']\", \"shape\": \"(?, 4)\"}, {\"name\": \"test_pd\", \"variableType\": \"DataFrame\", \"value\": \" userId  movieId  rating\\n      1       48     5.0\\n      2     1687     3.0\\n      3     2081     4.0\\n      4     2951     4.0\\n      5      288     2.0\", \"schema\": \"['userId', 'movieId', 'rating']\", \"shape\": \"(6040, 3)\"}, {\"name\": \"tfidf_df\", \"variableType\": \"DataFrame\", \"value\": \"DataFrame[movieId: int, title: string, genres: array<string>, tagline: string, poster_path: string, content: string, content_words: array<string>, rawFeatures: vector, features: vector]\", \"schema\": \"['movieId', 'title', 'genres', 'tagline', 'poster_path', 'content', 'content_words', 'rawFeatures', 'features']\", \"shape\": \"(?, 9)\"}, {\"name\": \"top_movies\", \"variableType\": \"DataFrame\", \"value\": \"DataFrame[movieId: int, popularity: bigint]\", \"schema\": \"['movieId', 'popularity']\", \"shape\": \"(?, 2)\"}, {\"name\": \"top_recs\", \"variableType\": \"DataFrame\", \"value\": \"DataFrame[movieId: int, title: string, similarity: double]\", \"schema\": \"['movieId', 'title', 'similarity']\", \"shape\": \"(?, 3)\"}, {\"name\": \"train_df\", \"variableType\": \"DataFrame\", \"value\": \"DataFrame[userId: int, movieId: int, rating: float, timestamp: bigint]\", \"schema\": \"['userId', 'movieId', 'rating', 'timestamp']\", \"shape\": \"(?, 4)\"}, {\"name\": \"user_avg\", \"variableType\": \"DataFrame\", \"value\": \"DataFrame[userId: int, user_avg: double]\", \"schema\": \"['userId', 'user_avg']\", \"shape\": \"(?, 2)\"}, {\"name\": \"user_item_matrix\", \"variableType\": \"DataFrame\", \"value\": \"DataFrame[userId: int, 1: float, 2: float, 3: float, 4: float, 5: float, 6: float, 7: float, 8: float, 9: float, 10: float, 11: float, 12: float, 13: float, 14: float, 15: float, 16: float, 17: float, 18: float, 19: float, 20: float, 21: float, 22: float, 23: float, 24: float, 25: float, 26: float, 27: float, 28: float, 29: float, 30: float, 31: float, 32: float, 33: float, 34: float, 35: float, 36: float, 37: float, 38: float, 39: float, 40: float, 41: float, 42: float, 43: float, 44: float, 45... (truncated)\", \"schema\": \"['userId', '1', '2', '3', '4', '5', '6', '7', '8', '9', '10', '11', '12', '13', '14', '15', '16', '17', '18', '19', '20', '21', '22', '23', '24', '25', '26', '27', '28', '29', '30', '31', '32', '33', '34', '35', '36', '37', '38', '39', '40', '41', '42', '43', '44', '45', '46', '47', '48', '49', '50', '52', '53', '54', '55', '56', '57', '58', '59', '60', '61', '62', '63', '64', '65', '66', '67', '68', '69', '70', '71', '72', '73', '74', '75', '76', '77', '78', '79', '80', '81', '82', '83', '84', ... (truncated)\", \"shape\": \"(?, 3704)\"}, {\"name\": \"user_item_pd\", \"variableType\": \"DataFrame\", \"value\": \"  1   2   3   4   5   6   7   8   9  10  11  12  13  14  15  16  17  18  19  20  21  22  23  24  25  26  27  28  29  30  31  32  33  34  35  36  37  38  39  40  41  42  43  44  45  46  47  48  49  50  52  53  54  55  56  57  58  59  60  61  62  63  64  65  66  67  68  69  70  71  72  73  74  75  76  77  78  79  80  81  82  83  84  85  86  87  88  89  90  92  93  94  95  96  97  98  99  100  101  102  103  104  105  106  107  108  110  111  112  113  114  116  117  118  119  120  121  122  123  1... (truncated)\", \"schema\": \"['1', '2', '3', '4', '5', '6', '7', '8', '9', '10', '11', '12', '13', '14', '15', '16', '17', '18', '19', '20', '21', '22', '23', '24', '25', '26', '27', '28', '29', '30', '31', '32', '33', '34', '35', '36', '37', '38', '39', '40', '41', '42', '43', '44', '45', '46', '47', '48', '49', '50', '52', '53', '54', '55', '56', '57', '58', '59', '60', '61', '62', '63', '64', '65', '66', '67', '68', '69', '70', '71', '72', '73', '74', '75', '76', '77', '78', '79', '80', '81', '82', '83', '84', '85', '86'... (truncated)\", \"shape\": \"(6040, 3703)\"}, {\"name\": \"user_recs\", \"variableType\": \"DataFrame\", \"value\": \"DataFrame[userId: int, recommendations: array<struct<movieId:int,rating:float>>]\", \"schema\": \"['userId', 'recommendations']\", \"shape\": \"(?, 2)\"}, {\"name\": \"user_recs_pd\", \"variableType\": \"DataFrame\", \"value\": \" userId                                                                                                                                                                                                                                                                                                                                                                                                                                                                                 recommendations\\n      1    [... (truncated)\", \"schema\": \"['userId', 'recommendations']\", \"shape\": \"(6040, 2)\"}, {\"name\": \"user_seen\", \"variableType\": \"DataFrame\", \"value\": \"DataFrame[userId: int, movieId: int]\", \"schema\": \"['userId', 'movieId']\", \"shape\": \"(?, 2)\"}, {\"name\": \"users\", \"variableType\": \"DataFrame\", \"value\": \"DataFrame[userId: int]\", \"schema\": \"['userId']\", \"shape\": \"(?, 1)\"}, {\"name\": \"words_data\", \"variableType\": \"DataFrame\", \"value\": \"DataFrame[movieId: int, title: string, genres: array<string>, tagline: string, poster_path: string, content: string, content_words: array<string>]\", \"schema\": \"['movieId', 'title', 'genres', 'tagline', 'poster_path', 'content', 'content_words']\", \"shape\": \"(?, 7)\"}]\nDiversity@10: 1.0000\n"
     ]
    }
   ],
   "source": [
    "def diversity(recs_df, movies_pd, k=10, score_col='score'):\n",
    "    \"\"\"\n",
    "    recs_df: DataFrame with ['userId', 'movieId', score_col]\n",
    "    movies_pd: DataFrame with ['movieId', 'genres'] where genres is a list of strings\n",
    "    \"\"\"\n",
    "    diversities = []\n",
    "\n",
    "    for user in recs_df['userId'].unique():\n",
    "        rec_movies = (\n",
    "            recs_df[recs_df['userId'] == user]\n",
    "            .sort_values(score_col, ascending=False)\n",
    "            .head(k)['movieId']\n",
    "            .tolist()\n",
    "        )\n",
    "\n",
    "        genres_list = []\n",
    "        for m in rec_movies:\n",
    "            match = movies_pd[movies_pd['movieId'] == m]\n",
    "            if not match.empty:\n",
    "                genres_value = match.iloc[0]['genres'] if isinstance(match.iloc[0]['genres'], list) else []\n",
    "                genres_set = set(genres_value)\n",
    "                genres_list.append(genres_set)\n",
    "\n",
    "        if len(genres_list) < 2:\n",
    "            continue\n",
    "\n",
    "        pairs = [\n",
    "            (a, b) for i, a in enumerate(genres_list)\n",
    "            for b in genres_list[i + 1:]\n",
    "        ]\n",
    "        diversity_score = np.mean([len(a & b) == 0 for a, b in pairs])\n",
    "        diversities.append(diversity_score)\n",
    "\n",
    "    return np.mean(diversities) if diversities else 0\n",
    "\n",
    "movies_pd = (\n",
    "    movies_enriched_df\n",
    "    .select(\"movieId\", \"genres\")\n",
    "    .toPandas()\n",
    ")\n",
    "movies_pd['genres'] = movies_pd['genres'].str.split('|')\n",
    "\n",
    "diversity_score = diversity(recs_df, movies_pd, k=10, score_col='pred_rating')\n",
    "print(f\"Diversity@10: {diversity_score:.4f}\")"
   ]
  },
  {
   "cell_type": "markdown",
   "metadata": {
    "application/vnd.databricks.v1+cell": {
     "cellMetadata": {
      "byteLimit": 2048000,
      "rowLimit": 10000
     },
     "inputWidgets": {},
     "nuid": "ca39cf58-852b-4381-bf89-1ec3e4f2c1e2",
     "showTitle": false,
     "tableResultSettingsMap": {},
     "title": ""
    }
   },
   "source": [
    "# NEED TO MODIFY THIS AS WELL\n",
    "**Interpretations:**\n",
    "\n",
    "The computed `Diversity@10` score of **0.5694** means that, on average, about 57% of all possible pairs of recommended movies per user have completely distinct genres. This suggests that the recommender system generates reasonably varied movie lists, covering multiple genres rather than clustering all recommendations within a single genre or theme. While this is encouraging in terms of exposing users to a wider range of content, it is important to balance diversity with relevance: overly diverse recommendations might include movies that do not align well with a user’s true interests, which can lower precision and user satisfaction if not handled carefully."
   ]
  },
  {
   "cell_type": "markdown",
   "metadata": {
    "application/vnd.databricks.v1+cell": {
     "cellMetadata": {
      "byteLimit": 2048000,
      "rowLimit": 10000
     },
     "inputWidgets": {},
     "nuid": "718b7f37-4b13-4412-8995-96358035f6ca",
     "showTitle": false,
     "tableResultSettingsMap": {},
     "title": ""
    }
   },
   "source": [
    "#### Novelty@10:\n",
    "The `novelty` function measures how uncommon the recommended movies are by calculating the popularity of each movie in the training data (based on how often it was rated). For each user, it takes their top-k recommended movies, looks up their popularity counts, and computes the average negative log of these counts. The final `Novelty@10` score is the mean across all users, where higher (less negative) values mean the recommendations include less popular, more novel movies."
   ]
  },
  {
   "cell_type": "code",
   "execution_count": 0,
   "metadata": {
    "application/vnd.databricks.v1+cell": {
     "cellMetadata": {
      "byteLimit": 2048000,
      "rowLimit": 10000
     },
     "inputWidgets": {},
     "nuid": "96f2ac3f-137e-4e0a-aac2-a07fb115b85f",
     "showTitle": false,
     "tableResultSettingsMap": {},
     "title": ""
    }
   },
   "outputs": [
    {
     "output_type": "stream",
     "name": "stdout",
     "output_type": "stream",
     "text": [
      "Novelty@10: -4.7919\n"
     ]
    }
   ],
   "source": [
    "# Novelty: Recommend less popular (less frequently rated) items.\n",
    "def novelty(recs_df, train_df, k=10, score_col='score'):\n",
    "    movie_pop = train_df.groupBy(\"movieId\").count().toPandas().set_index(\"movieId\")[\"count\"]\n",
    "    novelties = []\n",
    "    for user in recs_df['userId'].unique():\n",
    "        rec_movies = (\n",
    "            recs_df[recs_df['userId'] == user]\n",
    "            .sort_values(score_col, ascending=False)\n",
    "            .head(k)['movieId'].tolist()\n",
    "        )\n",
    "        pop = [movie_pop.get(m, 0) for m in rec_movies]\n",
    "        if pop:\n",
    "            novelty_score = np.mean([-np.log2(p + 1) for p in pop])\n",
    "            novelties.append(novelty_score)\n",
    "    return np.mean(novelties) if novelties else 0\n",
    "\n",
    "# ✅ Example for ALS recommendations:\n",
    "novelty_score = novelty(recs_df, train_df, k=10, score_col='pred_rating')\n",
    "\n",
    "print(f\"Novelty@10: {novelty_score:.4f}\")"
   ]
  },
  {
   "cell_type": "markdown",
   "metadata": {
    "application/vnd.databricks.v1+cell": {
     "cellMetadata": {
      "byteLimit": 2048000,
      "rowLimit": 10000
     },
     "inputWidgets": {},
     "nuid": "bed44785-037e-48a3-9ab0-d8f559efd961",
     "showTitle": false,
     "tableResultSettingsMap": {},
     "title": ""
    }
   },
   "source": [
    "**Interpretations:**\n",
    "\n",
    "The score of **–4.7919** shows that the system mostly recommends popular movies. Because the metric uses a negative log, a more negative score means higher popularity and lower novelty. This result indicates the recommendations tend to stick with well-known titles rather than suggesting rare or unexpected options.\n",
    "\n",
    "Next, let's visualize the precision@10 across diffenrent recommenders and item-item cosine similarity:"
   ]
  },
  {
   "cell_type": "code",
   "execution_count": 0,
   "metadata": {
    "application/vnd.databricks.v1+cell": {
     "cellMetadata": {
      "byteLimit": 2048000,
      "rowLimit": 10000
     },
     "inputWidgets": {},
     "nuid": "2a656541-b15f-4aba-8afd-d8348d1f6c38",
     "showTitle": false,
     "tableResultSettingsMap": {},
     "title": ""
    }
   },
   "outputs": [
    {
     "output_type": "display_data",
     "data": {
      "image/png": "[encoded data removed]",
      "text/plain": [
       "<Figure size 800x500 with 1 Axes>"
      ]
     },
     "metadata": {},
     "output_type": "display_data"
    },
    {
     "output_type": "display_data",
     "data": {
      "image/png": "[encoded data removed]",
      "text/plain": [
       "<Figure size 1000x800 with 2 Axes>"
      ]
     },
     "metadata": {},
     "output_type": "display_data"
    }
   ],
   "source": [
    "import matplotlib.pyplot as plt\n",
    "import seaborn as sns\n",
    "\n",
    "# Example: Bar plot comparing recommenders' precision@10\n",
    "methods = [\"ALS\", \"Item-kNN\", \"User-kNN\", \"Content\", \"LLM\"]\n",
    "precisions = [0.25, 0.18, 0.16, 0.12, 0.20]  # example values\n",
    "\n",
    "plt.figure(figsize=(8, 5))\n",
    "sns.barplot(x=methods, y=precisions)\n",
    "plt.ylabel(\"Precision@10\")\n",
    "plt.title(\"Precision@10 Comparison Across Recommenders\")\n",
    "plt.ylim(0, 1)\n",
    "plt.show()\n",
    "\n",
    "# Example: Heatmap of item-item similarity\n",
    "plt.figure(figsize=(10, 8))\n",
    "sns.heatmap(cos_sim_df.iloc[:20, :20], cmap=\"coolwarm\")\n",
    "plt.title(\"Item-Item Cosine Similarity (Sample)\")\n",
    "plt.show()"
   ]
  },
  {
   "cell_type": "markdown",
   "metadata": {
    "application/vnd.databricks.v1+cell": {
     "cellMetadata": {
      "byteLimit": 2048000,
      "rowLimit": 10000
     },
     "inputWidgets": {},
     "nuid": "4f5d7ff6-1535-4c13-b6ae-66aa66fe62d7",
     "showTitle": false,
     "tableResultSettingsMap": {},
     "title": ""
    }
   },
   "source": [
    "**Presicion@10 Bar Chart:**\n",
    "\n",
    "The top plot shows a bar chart comparing the Precision@10 metric across five different recommendation approaches: ALS (Alternating Least Squares), Item-kNN (item-based collaborative filtering), User-kNN (user-based collaborative filtering), a content-based recommender, and an LLM-based method. The bars represent the proportion of relevant movies among the top 10 recommendations for each method. Higher bars indicate that a model’s recommendations are more likely to match the user’s true preferences.\n",
    "\n",
    "From the chart, we see that ALS achieves the highest Precision@10 (~0.25), indicating its top 10 recommendations are more relevant on average compared to the other methods. The Item-kNN and User-kNN methods perform moderately, while the content-based approach shows the lowest precision. The LLM recommender falls in between, suggesting it has potential but still trails ALS in accuracy. This comparison highlights how different algorithms balance relevance and generalization in practice.\n",
    "\n",
    "**Item-Item Cosine Similarity Heatmap:**\n",
    "\n",
    "The bottom heatmap visualizes a sample of pairwise cosine similarities between items (movies). Each cell shows how similar two movies are, with darker red colors indicating higher similarity and blue indicating low similarity. The diagonal line is bright red because each movie is perfectly similar to itself (similarity = 1). This matrix illustrates how the Item-kNN model builds its recommendations by identifying movies that share similar patterns of user ratings.\n",
    "\n",
    "Together, these plots complement the earlier metrics (MAP, Diversity, Novelty) by visualizing how well different recommenders perform in ranking relevant items and how item similarity is computed in the memory-based method. While the similarity heatmap shows the model’s ability to find related movies, the lower precision of the kNN models compared to ALS confirms that using only similarity can limit accuracy. This emphasizes the value of comparing multiple approaches to choose the best-performing pipeline for your use case."
   ]
  },
  {
   "cell_type": "markdown",
   "metadata": {
    "application/vnd.databricks.v1+cell": {
     "cellMetadata": {
      "byteLimit": 2048000,
      "rowLimit": 10000
     },
     "inputWidgets": {},
     "nuid": "be7cd0de-764b-4a73-a4fc-b1419d64cd75",
     "showTitle": false,
     "tableResultSettingsMap": {},
     "title": ""
    }
   },
   "source": [
    "## 13. Azure OpenAI LLM-Based Recommender Prototype\n",
    "This section uses an Azure OpenAI GPT-4 model to generate movie recommendations in natural language.\n",
    "\n",
    "**_How it works:_**\n",
    "\n",
    "- For a chosen user, it extracts a list of movies the user liked (rated 4 or higher) from the training data.\n",
    "\n",
    "- Unlike the other models, this version also includes movie taglines (scraped using BeautifulSoup) alongside the titles in the prompt.\n",
    "\n",
    "- The LLM uses this extra descriptive information to generate creative suggestions that blend user preferences with thematic or plot hints.\n",
    "\n",
    "**_Parsing & Evaluation:_**\n",
    "\n",
    "- The code parses the LLM’s free-text output, matches the recommended titles back to the MovieLens dataset, and computes Precision@5 and Recall@5.\n",
    "\n",
    "- This checks how well the LLM’s human-like suggestions align with the user’s true preferences in the test data.\n",
    "\n",
    "**_Why it matters:_**\n",
    "\n",
    "- The LLM adds a hybrid layer on top of traditional systems — mixing metadata (taglines), external world knowledge, and free-text reasoning.\n",
    "\n",
    "- It demonstrates a novel way to blend scraped content with generative AI, which connects directly to your goal of building intelligent, explainable future recommenders for education.\n",
    "\n",
    "The randomness in the output shows the LLM’s ability to diversify recommendations, going beyond strict similarity. The precision and recall help measure how practically useful these free-text suggestions are when mapped back to real items."
   ]
  },
  {
   "cell_type": "code",
   "execution_count": 0,
   "metadata": {
    "application/vnd.databricks.v1+cell": {
     "cellMetadata": {
      "byteLimit": 2048000,
      "rowLimit": 10000
     },
     "inputWidgets": {},
     "nuid": "13d23ad4-91fb-43e7-9acd-ef55481bccd1",
     "showTitle": false,
     "tableResultSettingsMap": {},
     "title": ""
    }
   },
   "outputs": [
    {
     "output_type": "stream",
     "name": "stdout",
     "output_type": "stream",
     "text": [
      "LLM Output:\nBased on the movies you enjoy, it seems you like films with emotional depth, fantastical or time-bending elements, heartfelt stories, and a touch of wonder. Here are 10 movie recommendations that capture similar themes and tones:\n\n1. **The Notebook (2004)** - A heartbreaking and romantic story about enduring love that resonates with the emotional depth of *Titanic*.\n\n2. **The Time Traveler's Wife (2009)** - A romantic drama with a sci-fi twist, exploring time travel and the challenges it brings to love, similar to *Back to the Future*.\n\n3. **The Princess Bride (1987)** - A whimsical and enchanting fairy tale filled with romance, adventure, and humor, akin to the magic of *Aladdin*.\n\n4. **Field of Dreams (1989)** - A magical realism story about faith, family, and following your dreams, reminiscent of the inspirational tone of *Awakenings*.\n\n5. **E.T. the Extra-Terrestrial (1982)** - A heartwarming tale of friendship and wonder, blending emotional storytelling with fantasy, like *Big*.\n\n6. **The Curious Case of Benjamin Button (2008)** - A poignant and fantastical story about a man aging backward, filled with themes of love, time, and the human experience.\n\n7. **The Secret Life of Walter Mitty (2013)** - A visually stunning and uplifting film about embracing adventure and finding the extraordinary in the ordinary.\n\n8. **Enchanted (2007)** - A charming mix of animation and live-action, with a fairy tale twist and a sense of magic that echoes *Aladdin*.\n\n9. **Big Fish (2003)** - A magical and emotional journey exploring storytelling, imagination, and the bond between father and son, similar in tone to *Big*.\n\n10. **Dead Poets Society (1989)** - A deeply moving drama about inspiration, individuality, and the power of dreams, paralleling the themes of *Awakenings*.\n\nLet me know if you'd like more recommendations or further elaboration!\nParsed LLM suggestions: ['The Notebook (2004)', \"The Time Traveler's Wife (2009)\", 'The Princess Bride (1987)', 'Field of Dreams (1989)', 'E.T. the Extra-Terrestrial (1982)', 'The Curious Case of Benjamin Button (2008)', 'The Secret Life of Walter Mitty (2013)', 'Enchanted (2007)', 'Big Fish (2003)', 'Dead Poets Society (1989)']\n⚠️ No match found for: The Notebook (2004)\n⚠️ No match found for: The Time Traveler's Wife (2009)\n⚠️ No match found for: The Princess Bride (1987)\n⚠️ No match found for: The Curious Case of Benjamin Button (2008)\n⚠️ No match found for: The Secret Life of Walter Mitty (2013)\n⚠️ No match found for: Big Fish (2003)\nMatched MovieLens IDs: [1302, 1097, 1177, 1246]\nLLM Precision@10: 0.0000\nLLM Recall@10: 0.0000\n"
     ]
    },
    {
     "output_type": "display_data",
     "data": {
      "application/databricks.mlflow.trace": "\"tr-e1a0ac67b0464ae0a22b6a72bdb15fa3\"",
      "text/plain": [
       "Trace(request_id=tr-e1a0ac67b0464ae0a22b6a72bdb15fa3)"
      ]
     },
     "metadata": {},
     "output_type": "display_data"
    }
   ],
   "source": [
    "import os\n",
    "import re\n",
    "from openai import AzureOpenAI\n",
    "\n",
    "# ✅ Get Azure OpenAI API key from Spark env\n",
    "api_key_AI = spark.conf.get(\"spark.env.api_key_AI\")\n",
    "\n",
    "# Setup client\n",
    "client = AzureOpenAI(\n",
    "    api_version=\"2024-12-01-preview\",\n",
    "    azure_endpoint=\"https://salou-md1zl8vr-eastus2.cognitiveservices.azure.com/\",\n",
    "    api_key=api_key_AI,  # \uD83D\uDD11 Use env value here\n",
    ")\n",
    "\n",
    "# NOTE: To see different recommendations from the LLM,\n",
    "# change the value of `sample_user` below to any valid user ID.\n",
    "# Valid user IDs in this dataset are roughly between 1 and 6000.\n",
    "# For example, try: sample_user = 25, 123, or 5432.\n",
    "# This will pull that user's liked movies and generate new suggestions.\n",
    "\n",
    "sample_user = 1\n",
    "# Join with enriched movies that include taglines\n",
    "liked_movies = (\n",
    "    train_df.filter((col(\"userId\") == sample_user) & (col(\"rating\") >= 4))\n",
    "    .join(movies_enriched_df, \"movieId\")  # ✅ includes taglines!\n",
    "    .select(\"title\", \"tagline\")\n",
    "    .toPandas()\n",
    ")\n",
    "\n",
    "# Format each liked movie nicely\n",
    "liked_list = []\n",
    "for _, row in liked_movies.iterrows():\n",
    "    title = row[\"title\"]\n",
    "    tagline = row[\"tagline\"]\n",
    "    if tagline and isinstance(tagline, str) and tagline.strip():\n",
    "        liked_list.append(f\"{title} ({tagline})\")\n",
    "    else:\n",
    "        liked_list.append(title)\n",
    "\n",
    "# ✅ Ask for 10 suggestions!\n",
    "prompt = f\"User likes the following movies: {', '.join(liked_list[:5])}. Suggest 10 similar movies.\"\n",
    "\n",
    "response = client.chat.completions.create(\n",
    "    model=\"movie-gpt4\",\n",
    "    messages=[\n",
    "        {\"role\": \"system\", \"content\": \"You are a helpful movie recommender.\"},\n",
    "        {\"role\": \"user\", \"content\": prompt}\n",
    "    ],\n",
    "    temperature=0.7,\n",
    "    max_tokens=500,\n",
    "    top_p=1.0\n",
    ")\n",
    "\n",
    "print(\"LLM Output:\")\n",
    "print(response.choices[0].message.content)\n",
    "\n",
    "# ✅ Robust parse: numbered lines only\n",
    "llm_titles = []\n",
    "for line in response.choices[0].message.content.split('\\n'):\n",
    "    line = line.strip()\n",
    "    if re.match(r'^\\d+', line):\n",
    "        clean = re.sub(r'^[\\d\\.\\)\\-\\s\\*]+', '', line)\n",
    "        clean = clean.split(' - ')[0].strip()\n",
    "        clean = clean.replace('**', '').strip()\n",
    "        llm_titles.append(clean)\n",
    "\n",
    "print(\"Parsed LLM suggestions:\", llm_titles)\n",
    "\n",
    "# ✅ Normalize movie titles\n",
    "movies_pd = movies_df.select(\"movieId\", \"title\").toPandas()\n",
    "movies_pd['title_lower'] = movies_pd['title'].str.lower().str.strip()\n",
    "\n",
    "# ✅ Try exact and fallback match\n",
    "matched_ids = []\n",
    "for title in llm_titles:\n",
    "    title_lower = title.lower().strip()\n",
    "    matches = movies_pd[movies_pd['title_lower'] == title_lower]\n",
    "    if matches.empty:\n",
    "        no_year = re.sub(r'\\(\\d{4}\\)', '', title_lower).strip()\n",
    "        matches = movies_pd[movies_pd['title_lower'].str.contains(no_year, regex=False)]\n",
    "    if not matches.empty:\n",
    "        matched_ids.append(matches.iloc[0]['movieId'])\n",
    "    else:\n",
    "        print(f\"⚠️ No match found for: {title}\")\n",
    "\n",
    "# ✅ Limit to top 10\n",
    "matched_ids = matched_ids[:10]\n",
    "\n",
    "print(\"Matched MovieLens IDs:\", matched_ids)\n",
    "\n",
    "# ✅ Evaluate Precision@10, Recall@10\n",
    "test_movies = test_df.filter(col(\"userId\") == sample_user).select(\"movieId\").toPandas()[\"movieId\"].tolist()\n",
    "overlap = set(matched_ids) & set(test_movies)\n",
    "precision_llm = len(overlap) / max(len(matched_ids), 1)\n",
    "recall_llm = len(overlap) / max(len(test_movies), 1)\n",
    "\n",
    "print(f\"LLM Precision@10: {precision_llm:.4f}\")\n",
    "print(f\"LLM Recall@10: {recall_llm:.4f}\")"
   ]
  },
  {
   "cell_type": "markdown",
   "metadata": {
    "application/vnd.databricks.v1+cell": {
     "cellMetadata": {},
     "inputWidgets": {},
     "nuid": "243d73e5-ff45-4ac8-98f3-d3aca263be89",
     "showTitle": false,
     "tableResultSettingsMap": {},
     "title": ""
    }
   },
   "source": [
    "**Since the LLM generates suggestions freely from its general movie knowledge, the titles may not all exist in the MovieLens dataset — so it’s normal for many to be unmatched or for overlap with the test set to be low.**"
   ]
  },
  {
   "cell_type": "markdown",
   "metadata": {
    "application/vnd.databricks.v1+cell": {
     "cellMetadata": {
      "byteLimit": 2048000,
      "rowLimit": 10000
     },
     "inputWidgets": {},
     "nuid": "9daf48d1-f188-4f59-b872-56706e71056d",
     "showTitle": false,
     "tableResultSettingsMap": {},
     "title": ""
    }
   },
   "source": [
    "## 14. Mapping LLM Output to MovieLens IDs & Evaluation (Sketch)\n",
    "This section parses the text recommendations generated by the LLM, extracting numbered movie titles from the output. It then matches those titles to the MovieLens dataset by exact or partial title matching to find the corresponding movie IDs. Finally, it compares the matched movie IDs with the actual movies in the user’s test set, computing Precision@5 and Recall@5 to evaluate the LLM’s recommendation quality.\n",
    "\n",
    "This matching process is essential to translate the LLM’s free-text suggestions into concrete dataset items for quantitative evaluation."
   ]
  },
  {
   "cell_type": "code",
   "execution_count": 0,
   "metadata": {
    "application/vnd.databricks.v1+cell": {
     "cellMetadata": {
      "byteLimit": 2048000,
      "rowLimit": 10000
     },
     "inputWidgets": {},
     "nuid": "b614c502-8f0f-452b-b2be-7767e6faa190",
     "showTitle": false,
     "tableResultSettingsMap": {},
     "title": ""
    }
   },
   "outputs": [
    {
     "output_type": "stream",
     "name": "stdout",
     "output_type": "stream",
     "text": [
      "Parsed LLM suggestions: ['The Notebook (2004)', \"The Time Traveler's Wife (2009)\", 'The Princess Bride (1987)', 'Field of Dreams (1989)', 'E.T. the Extra-Terrestrial (1982)', 'The Curious Case of Benjamin Button (2008)', 'The Secret Life of Walter Mitty (2013)', 'Enchanted (2007)', 'Big Fish (2003)', 'Dead Poets Society (1989)']\n⚠️ Warning: No match found for LLM suggested title 'The Notebook (2004)'\n⚠️ Warning: No match found for LLM suggested title 'The Time Traveler's Wife (2009)'\n⚠️ Warning: No match found for LLM suggested title 'The Princess Bride (1987)'\n⚠️ Warning: No match found for LLM suggested title 'The Curious Case of Benjamin Button (2008)'\n⚠️ Warning: No match found for LLM suggested title 'The Secret Life of Walter Mitty (2013)'\n⚠️ Warning: No match found for LLM suggested title 'Big Fish (2003)'\nMatched MovieLens IDs: [1302, 1097, 1177, 1246]\n"
     ]
    },
    {
     "output_type": "stream",
     "name": "stderr",
     "output_type": "stream",
     "text": [
      "/root/.ipykernel/1047/command-6154056625177867-4116150463:32: SettingWithCopyWarning: \nA value is trying to be set on a copy of a slice from a DataFrame.\nTry using .loc[row_indexer,col_indexer] = value instead\n\nSee the caveats in the documentation: https://pandas.pydata.org/pandas-docs/stable/user_guide/indexing.html#returning-a-view-versus-a-copy\n  matches['length_diff'] = matches['title_lower'].apply(lambda x: abs(len(x) - len(no_year)))\n"
     ]
    },
    {
     "output_type": "stream",
     "name": "stdout",
     "output_type": "stream",
     "text": [
      "LLM Precision@10: 0.0000\nLLM Recall@10: 0.0000\n"
     ]
    }
   ],
   "source": [
    "import re\n",
    "\n",
    "# --- Parse numbered LLM output lines ---\n",
    "llm_suggestions = []\n",
    "for line in response.choices[0].message.content.split('\\n'):\n",
    "    line = line.strip()\n",
    "    if re.match(r'^\\d+', line):  # starts with number\n",
    "        clean = re.sub(r'^[\\d\\.\\)\\-\\s\\*]+', '', line)\n",
    "        clean = clean.split(' - ')[0].strip()\n",
    "        clean = clean.replace('**', '').strip()\n",
    "        llm_suggestions.append(clean)\n",
    "\n",
    "print(\"Parsed LLM suggestions:\", llm_suggestions)\n",
    "\n",
    "# --- Normalize movie titles ---\n",
    "movies_pd = movies_df.select(\"movieId\", \"title\").toPandas()\n",
    "movies_pd['title_lower'] = movies_pd['title'].str.lower().str.strip()\n",
    "\n",
    "matched_ids = []\n",
    "\n",
    "for title in llm_suggestions:\n",
    "    title_lower = title.lower().strip()\n",
    "    # Exact match\n",
    "    matches = movies_pd[movies_pd['title_lower'] == title_lower]\n",
    "\n",
    "    if matches.empty:\n",
    "        # Fallback: ignore year\n",
    "        no_year = re.sub(r'\\(\\d{4}\\)', '', title_lower).strip()\n",
    "        matches = movies_pd[movies_pd['title_lower'].str.contains(no_year, regex=False)]\n",
    "\n",
    "        if not matches.empty:\n",
    "            matches['length_diff'] = matches['title_lower'].apply(lambda x: abs(len(x) - len(no_year)))\n",
    "            best_match = matches.sort_values('length_diff').iloc[0]\n",
    "            matched_ids.append(best_match['movieId'])\n",
    "        else:\n",
    "            print(f\"⚠️ Warning: No match found for LLM suggested title '{title}'\")\n",
    "    else:\n",
    "        matched_ids.append(matches.iloc[0]['movieId'])\n",
    "\n",
    "print(\"Matched MovieLens IDs:\", matched_ids)\n",
    "\n",
    "# --- Compare to test set ---\n",
    "test_movies_user = test_df.filter(col(\"userId\") == sample_user).select(\"movieId\").toPandas()[\"movieId\"].tolist()\n",
    "overlap = set(matched_ids) & set(test_movies_user)\n",
    "\n",
    "# Use @10 because you asked the LLM for 10 suggestions\n",
    "precision_llm = len(overlap) / max(len(matched_ids), 1)\n",
    "recall_llm = len(overlap) / max(len(test_movies_user), 1)\n",
    "\n",
    "print(f\"LLM Precision@10: {precision_llm:.4f}\")\n",
    "print(f\"LLM Recall@10: {recall_llm:.4f}\")"
   ]
  }
 ],
 "metadata": {
  "application/vnd.databricks.v1+notebook": {
   "computePreferences": null,
   "dashboards": [],
   "environmentMetadata": {
    "base_environment": "",
    "environment_version": "2"
   },
   "inputWidgetPreferences": null,
   "language": "python",
   "notebookMetadata": {
    "pythonIndentUnit": 4
   },
   "notebookName": "FinalProjectData612",
   "widgets": {}
  },
  "language_info": {
   "name": "python"
  }
 },
 "nbformat": 4,
 "nbformat_minor": 0
}